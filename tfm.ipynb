{
  "nbformat": 4,
  "nbformat_minor": 0,
  "metadata": {
    "colab": {
      "name": "tfm.ipynb",
      "version": "0.3.2",
      "provenance": [],
      "collapsed_sections": [
        "zYrqNjIAVJWV",
        "LL6IKWw7hWqL"
      ],
      "include_colab_link": true
    },
    "kernelspec": {
      "name": "python3",
      "display_name": "Python 3"
    },
    "accelerator": "GPU"
  },
  "cells": [
    {
      "cell_type": "markdown",
      "metadata": {
        "id": "view-in-github",
        "colab_type": "text"
      },
      "source": [
        "[View in Colaboratory](https://colab.research.google.com/github/albertorb/mulcia-tfm-nuclei/blob/master/tfm.ipynb)"
      ]
    },
    {
      "metadata": {
        "id": "IRYQA7VcfhVu",
        "colab_type": "text"
      },
      "cell_type": "markdown",
      "source": [
        "# Nuclei segmentation: A deep learning approach\n",
        "### Technology stack\n",
        "\n",
        "\n",
        "*   Keras (Tensorflow-gpu backend)\n"
      ]
    },
    {
      "metadata": {
        "id": "3guzM0ulgc4P",
        "colab_type": "text"
      },
      "cell_type": "markdown",
      "source": [
        "## Getting data"
      ]
    },
    {
      "metadata": {
        "id": "jUPFyR7N73Wv",
        "colab_type": "code",
        "colab": {
          "base_uri": "https://localhost:8080/",
          "height": 765
        },
        "outputId": "3696780a-7946-4cef-b16b-f266cf5c2a9b"
      },
      "cell_type": "code",
      "source": [
        "!pip install -q keras tqdm\n",
        "\n",
        "!rm *.pbz2\n",
        "!wget https://s3-eu-west-1.amazonaws.com/nuclei-tfm/nuclei/test.pbz2\n",
        "!wget https://s3-eu-west-1.amazonaws.com/nuclei-tfm/nuclei/test_256_normalized.pbz2\n",
        "!wget https://s3-eu-west-1.amazonaws.com/nuclei-tfm/nuclei/train_256_normalized.pbz2\n",
        "!wget https://s3-eu-west-1.amazonaws.com/nuclei-tfm/nuclei/labeled_256_normalized.pbz2"
      ],
      "execution_count": 1,
      "outputs": [
        {
          "output_type": "stream",
          "text": [
            "--2018-06-08 18:39:12--  https://s3-eu-west-1.amazonaws.com/nuclei-tfm/nuclei/test.pbz2\n",
            "Resolving s3-eu-west-1.amazonaws.com (s3-eu-west-1.amazonaws.com)... 52.218.84.58\n",
            "Connecting to s3-eu-west-1.amazonaws.com (s3-eu-west-1.amazonaws.com)|52.218.84.58|:443... connected.\n",
            "HTTP request sent, awaiting response... 200 OK\n",
            "Length: 3002047 (2.9M) [binary/octet-stream]\n",
            "Saving to: ‘test.pbz2’\n",
            "\n",
            "test.pbz2           100%[===================>]   2.86M  1.09MB/s    in 2.6s    \n",
            "\n",
            "2018-06-08 18:39:15 (1.09 MB/s) - ‘test.pbz2’ saved [3002047/3002047]\n",
            "\n",
            "--2018-06-08 18:39:17--  https://s3-eu-west-1.amazonaws.com/nuclei-tfm/nuclei/test_256_normalized.pbz2\n",
            "Resolving s3-eu-west-1.amazonaws.com (s3-eu-west-1.amazonaws.com)... 52.218.20.124\n",
            "Connecting to s3-eu-west-1.amazonaws.com (s3-eu-west-1.amazonaws.com)|52.218.20.124|:443... connected.\n",
            "HTTP request sent, awaiting response... 200 OK\n",
            "Length: 3559564 (3.4M) [binary/octet-stream]\n",
            "Saving to: ‘test_256_normalized.pbz2’\n",
            "\n",
            "test_256_normalized 100%[===================>]   3.39M  1.43MB/s    in 2.4s    \n",
            "\n",
            "2018-06-08 18:39:20 (1.43 MB/s) - ‘test_256_normalized.pbz2’ saved [3559564/3559564]\n",
            "\n",
            "--2018-06-08 18:39:21--  https://s3-eu-west-1.amazonaws.com/nuclei-tfm/nuclei/train_256_normalized.pbz2\n",
            "Resolving s3-eu-west-1.amazonaws.com (s3-eu-west-1.amazonaws.com)... 52.218.17.20\n",
            "Connecting to s3-eu-west-1.amazonaws.com (s3-eu-west-1.amazonaws.com)|52.218.17.20|:443... connected.\n",
            "HTTP request sent, awaiting response... 200 OK\n",
            "Length: 31224692 (30M) [application/x-www-form-urlencoded]\n",
            "Saving to: ‘train_256_normalized.pbz2’\n",
            "\n",
            "train_256_normalize 100%[===================>]  29.78M  7.26MB/s    in 6.2s    \n",
            "\n",
            "2018-06-08 18:39:27 (4.81 MB/s) - ‘train_256_normalized.pbz2’ saved [31224692/31224692]\n",
            "\n",
            "--2018-06-08 18:39:29--  https://s3-eu-west-1.amazonaws.com/nuclei-tfm/nuclei/labeled_256_normalized.pbz2\n",
            "Resolving s3-eu-west-1.amazonaws.com (s3-eu-west-1.amazonaws.com)... 52.218.84.194\n",
            "Connecting to s3-eu-west-1.amazonaws.com (s3-eu-west-1.amazonaws.com)|52.218.84.194|:443... connected.\n",
            "HTTP request sent, awaiting response... 200 OK\n",
            "Length: 1040505 (1016K) [binary/octet-stream]\n",
            "Saving to: ‘labeled_256_normalized.pbz2’\n",
            "\n",
            "labeled_256_normali 100%[===================>]   1016K   612KB/s    in 1.7s    \n",
            "\n",
            "2018-06-08 18:39:31 (612 KB/s) - ‘labeled_256_normalized.pbz2’ saved [1040505/1040505]\n",
            "\n"
          ],
          "name": "stdout"
        }
      ]
    },
    {
      "metadata": {
        "id": "SLw6yzSKmhBM",
        "colab_type": "code",
        "colab": {
          "base_uri": "https://localhost:8080/",
          "height": 34
        },
        "outputId": "bd657c5b-0502-4a1c-bb67-15f42d2facd2"
      },
      "cell_type": "code",
      "source": [
        "from bz2 import BZ2File\n",
        "import _pickle as pickle\n",
        "import keras\n",
        "import pylab as plt\n",
        "import pandas as pd\n",
        "import numpy as np\n",
        "from scipy import misc\n",
        "from collections import Counter\n",
        "from copy import copy\n",
        "import warnings\n",
        "\n",
        "warnings.filterwarnings('ignore', category=UserWarning, module='skimage')\n",
        "warnings.filterwarnings('ignore', category=UserWarning, module='keras')"
      ],
      "execution_count": 2,
      "outputs": [
        {
          "output_type": "stream",
          "text": [
            "Using TensorFlow backend.\n"
          ],
          "name": "stderr"
        }
      ]
    },
    {
      "metadata": {
        "id": "7zTf6r9Vnoef",
        "colab_type": "code",
        "colab": {
          "base_uri": "https://localhost:8080/",
          "height": 119
        },
        "outputId": "0d3bff13-c908-4744-93bb-7b8ae1b91dbf"
      },
      "cell_type": "code",
      "source": [
        "#@title Get data { vertical-output: true, display-mode: \"form\" }\n",
        "image_size = 256 #@param [\"256\", \"128\"] {type:\"raw\"}\n",
        "def get_data(im_size):\n",
        "  \"\"\"\n",
        "  \"\"\"\n",
        "  with BZ2File('train_%i_normalized.pbz2' %im_size, 'r') as f:\n",
        "    train = pickle.load(f)\n",
        "    train = pd.DataFrame(train, columns=[\"ImageId\", \"Pixels\"]) \n",
        "   \n",
        "  with BZ2File('labeled_%i_normalized.pbz2' %im_size, 'r') as f:\n",
        "    labels = pickle.load(f)\n",
        "    \n",
        "  with BZ2File('test_%i_normalized.pbz2' %im_size, 'r') as f:\n",
        "    test = pickle.load(f)  \n",
        "    test = pd.DataFrame(test, columns=[\"ImageId\", \"Pixels\"])\n",
        "  \n",
        "  test_ids = test.ImageId.values\n",
        "  X_train = [np.reshape(v.flatten(), (im_size,im_size,3)).astype(np.float32) for v in train.Pixels.values]\n",
        "  Y_train = [np.reshape(v.flatten(), (im_size,im_size,1)).astype(np.float32) for v in labels]\n",
        "  test = [np.reshape(v.flatten(), (im_size,im_size,3)).astype(np.float32) for v in test.Pixels.values]\n",
        "  \n",
        "  return X_train, Y_train, test, test_ids\n",
        "\n",
        "X_train, Y_train, test, test_ids = get_data(image_size)\n",
        "\n",
        "with BZ2File('test.pbz2', 'r') as f:\n",
        "  test_r = pickle.load(f)  \n",
        "  test_r = pd.DataFrame(test_r, columns=[\"ImageId\", \"Pixels\"])\n",
        "  \n",
        "print(\"Created variables with data: \\n X_train \\n Y_train \\n test, \\n test_ids \\n test_r\")"
      ],
      "execution_count": 3,
      "outputs": [
        {
          "output_type": "stream",
          "text": [
            "Created variables with data: \n",
            " X_train \n",
            " Y_train \n",
            " test, \n",
            " test_ids \n",
            " test_r\n"
          ],
          "name": "stdout"
        }
      ]
    },
    {
      "metadata": {
        "id": "KoDjloS4gQpi",
        "colab_type": "text"
      },
      "cell_type": "markdown",
      "source": [
        "# Model definition\n",
        "\n",
        "Adversarial training using U-Net architecture."
      ]
    },
    {
      "metadata": {
        "id": "5awUcRQiJMWl",
        "colab_type": "text"
      },
      "cell_type": "markdown",
      "source": [
        "### Lib imports"
      ]
    },
    {
      "metadata": {
        "id": "htwM0YmxDWNR",
        "colab_type": "code",
        "colab": {}
      },
      "cell_type": "code",
      "source": [
        "from keras.models import Model, load_model\n",
        "from keras.layers import Dense, Input, merge, Dropout, Lambda, BatchNormalization, LeakyReLU, PReLU\n",
        "from keras.constraints import maxnorm\n",
        "from keras.optimizers import Adam, SGD\n",
        "from keras.layers.convolutional import Conv2D, UpSampling2D, MaxPooling2D\n",
        "from keras.preprocessing.image import ImageDataGenerator\n",
        "from keras.backend import tf\n",
        "from keras.callbacks import ModelCheckpoint, EarlyStopping\n",
        "from keras.initializers import glorot_uniform\n",
        "\n",
        "\n",
        "from sklearn.model_selection import train_test_split\n",
        "from skimage.morphology import label\n",
        "\n",
        "from tqdm import tqdm\n",
        "\n",
        "import sys"
      ],
      "execution_count": 0,
      "outputs": []
    },
    {
      "metadata": {
        "id": "7YuOy_iJniKP",
        "colab_type": "text"
      },
      "cell_type": "markdown",
      "source": [
        "### Metric definition: Intersection over Union (IoU)\n",
        "\n",
        "Using the implementation found at: https://www.kaggle.com/aglotero/another-iou-metric/notebook"
      ]
    },
    {
      "metadata": {
        "id": "Jh2t6BXinpVR",
        "colab_type": "code",
        "colab": {}
      },
      "cell_type": "code",
      "source": [
        "# Thanks to: https://www.kaggle.com/aglotero/another-iou-metric/notebook\n",
        "def iou_metric(y_true_in, y_pred_in, print_table=False):\n",
        "    labels = label(y_true_in > 0.5)\n",
        "    y_pred = label(y_pred_in > 0.5)\n",
        "    \n",
        "    true_objects = len(np.unique(labels))\n",
        "    pred_objects = len(np.unique(y_pred))\n",
        "\n",
        "    intersection = np.histogram2d(labels.flatten(), y_pred.flatten(), bins=(true_objects, pred_objects))[0]\n",
        "\n",
        "    # Compute areas (needed for finding the union between all objects)\n",
        "    area_true = np.histogram(labels, bins = true_objects)[0]\n",
        "    area_pred = np.histogram(y_pred, bins = pred_objects)[0]\n",
        "    area_true = np.expand_dims(area_true, -1)\n",
        "    area_pred = np.expand_dims(area_pred, 0)\n",
        "\n",
        "    # Compute union\n",
        "    union = area_true + area_pred - intersection\n",
        "\n",
        "    # Exclude background from the analysis\n",
        "    intersection = intersection[1:,1:]\n",
        "    union = union[1:,1:]\n",
        "    union[union == 0] = 1e-9\n",
        "\n",
        "    # Compute the intersection over union\n",
        "    iou = intersection / union\n",
        "\n",
        "    # Precision helper function\n",
        "    def precision_at(threshold, iou):\n",
        "        matches = iou > threshold\n",
        "        true_positives = np.sum(matches, axis=1) == 1   # Correct objects\n",
        "        false_positives = np.sum(matches, axis=0) == 0  # Missed objects\n",
        "        false_negatives = np.sum(matches, axis=1) == 0  # Extra objects\n",
        "        tp, fp, fn = np.sum(true_positives), np.sum(false_positives), np.sum(false_negatives)\n",
        "        return tp, fp, fn\n",
        "\n",
        "    # Loop over IoU thresholds\n",
        "    prec = []\n",
        "    if print_table:\n",
        "        print(\"Thresh\\tTP\\tFP\\tFN\\tPrec.\")\n",
        "    for t in np.arange(0.5, 1.0, 0.05):\n",
        "        tp, fp, fn = precision_at(t, iou)\n",
        "        if (tp + fp + fn) > 0:\n",
        "            p = tp / (tp + fp + fn)\n",
        "        else:\n",
        "            p = 0\n",
        "        if print_table:\n",
        "            print(\"{:1.3f}\\t{}\\t{}\\t{}\\t{:1.3f}\".format(t, tp, fp, fn, p))\n",
        "        prec.append(p)\n",
        "    \n",
        "    if print_table:\n",
        "        print(\"AP\\t-\\t-\\t-\\t{:1.3f}\".format(np.mean(prec)))\n",
        "    return np.mean(prec)\n",
        "\n",
        "def iou_metric_batch(y_true_in, y_pred_in):\n",
        "    batch_size = y_true_in.shape[0]\n",
        "    metric = []\n",
        "    for batch in range(batch_size):\n",
        "        value = iou_metric(y_true_in[batch], y_pred_in[batch])\n",
        "        metric.append(value)\n",
        "    return np.array(np.mean(metric), dtype=np.float32)\n",
        "\n",
        "def iou(label, pred):\n",
        "    metric_value = tf.py_func(iou_metric_batch, [label, pred], tf.float32)\n",
        "    return metric_value"
      ],
      "execution_count": 0,
      "outputs": []
    },
    {
      "metadata": {
        "id": "z8nagmiDgfiT",
        "colab_type": "text"
      },
      "cell_type": "markdown",
      "source": [
        "## Net implementations\n"
      ]
    },
    {
      "metadata": {
        "id": "Db_jKKLgJSdr",
        "colab_type": "text"
      },
      "cell_type": "markdown",
      "source": [
        "### Discriminator"
      ]
    },
    {
      "metadata": {
        "id": "EnBU5BTNhu9t",
        "colab_type": "code",
        "colab": {}
      },
      "cell_type": "code",
      "source": [
        "def create_discriminator():\n",
        "  \"\"\"\n",
        "  CNN that returns the probability that the given image is real or generated.\n",
        "  Input: Image.shape, either 128 or 256.\n",
        "  Output: Sigmoid\n",
        "  \"\"\"\n",
        "  inputs = Input((256,256,1))\n",
        "  \n",
        "  kernel_initializer = glorot_uniform(seed=1)\n",
        "  \n",
        "  conv1 = Conv2D(128, 1, activation='relu', padding = 'same', kernel_initializer = kernel_initializer)(inputs)\n",
        "  #conv1 = PReLU()(conv1)\n",
        "  conv1 = BatchNormalization()(conv1)\n",
        "#   conv1 = Dropout(0.2)(conv1)\n",
        "\n",
        "  \n",
        "  conv2 = Conv2D(64, 1, strides=(2,2), activation='relu', padding = 'same', kernel_initializer = kernel_initializer)(conv1)\n",
        "  #conv2 = PReLU()(conv2)\n",
        "  conv2 = BatchNormalization()(conv2)\n",
        "#   conv2 = Dropout(0.2)(conv2)\n",
        "  \n",
        "  conv3 = Conv2D(32, 1, strides=(2,2), activation='relu', padding = 'same', kernel_initializer = kernel_initializer)(conv2)\n",
        "  #conv3 = PReLU()(conv3)\n",
        "  conv3 = BatchNormalization()(conv3)\n",
        "#   conv3 = Dropout(0.2)(conv3)\n",
        "  \n",
        "  conv4 = Conv2D(32, 1, strides=(2,2), activation='relu', padding = 'same', kernel_initializer = kernel_initializer)(conv3)\n",
        "  #conv4 = PReLU()(conv4)\n",
        "  conv4 = BatchNormalization()(conv4)\n",
        "#   conv4 = Dropout(0.2)(conv4)\n",
        "  \n",
        "  conv5 = Conv2D(16, 1, strides=(4,4), activation='relu', padding = 'same', kernel_initializer = kernel_initializer)(conv4)\n",
        "  #conv5 = PReLU()(conv5)\n",
        "  conv5 = BatchNormalization()(conv5)\n",
        "#   conv5 = Dropout(0.2)(conv5)\n",
        "  \n",
        "  conv6 = Conv2D(16, 1, strides=(2,2), activation='relu', padding = 'same', kernel_initializer = kernel_initializer)(conv5)\n",
        "  #conv6 = PReLU()(conv6)\n",
        "  conv6 = BatchNormalization()(conv6)\n",
        "#   conv6 = Dropout(0.2)(conv6)\n",
        "\n",
        "  conv7 = Conv2D(16, 1, strides=(4,4), activation='relu', padding = 'same', kernel_initializer = kernel_initializer)(conv6)\n",
        "  #conv7 = PReLU()(conv7)\n",
        "  conv7 = BatchNormalization()(conv7)\n",
        "#   conv7 = Dropout(0.2)(conv7)\n",
        "\n",
        "  \n",
        "  \n",
        "  outputs = Conv2D(1, 1, activation = 'sigmoid')(conv7)\n",
        "  \n",
        "  model = Model(input = inputs, output = outputs, name='Discriminator')\n",
        "\n",
        "  model.compile(optimizer = Adam(lr = 1e-4), loss = 'binary_crossentropy')\n",
        "\n",
        "  #   print(model.summary())\n",
        "  \n",
        "  return model\n",
        "\n",
        "  \n",
        "  \n",
        "  "
      ],
      "execution_count": 0,
      "outputs": []
    },
    {
      "metadata": {
        "id": "SbVA224yJdKp",
        "colab_type": "text"
      },
      "cell_type": "markdown",
      "source": [
        "### Generator"
      ]
    },
    {
      "metadata": {
        "id": "vgQmhfQDJdU-",
        "colab_type": "code",
        "colab": {
          "base_uri": "https://localhost:8080/",
          "height": 142
        },
        "outputId": "9623b63b-5956-4d62-e0bf-f4ee16d0f198"
      },
      "cell_type": "code",
      "source": [
        "#@title Generator network selection { vertical-output: true, display-mode: \"form\" }\n",
        "model_choice = \"unet_reduced\" #@param [\"unet_original\", \"unet_reduced\"] {type:\"string\"}\n",
        "# U-NET Architecture.\n",
        "def create_unet_model_original():\n",
        "  \"\"\"\n",
        "  Based on U-Net architecture, convolutional kernels has been reduced because\n",
        "  our training images are near to half the resolution of the U-Net example.\n",
        "  \"\"\"\n",
        "  inputs = Input((256, 256,3))\n",
        "  \n",
        "  kernel_initializer = glorot_uniform(seed=2)\n",
        "  \n",
        "  conv1 = Conv2D(64, 3, activation = 'relu', padding = 'same', kernel_initializer = kernel_initializer)(inputs)\n",
        "#   conv1 = Dropout(0.1)(conv1) # testing\n",
        "  conv1 = Conv2D(64, 3, activation = 'relu', padding = 'same', kernel_initializer = kernel_initializer)(conv1)\n",
        "  pool1 = MaxPooling2D(pool_size=(2, 2))(conv1)\n",
        "\n",
        "  conv2 = Conv2D(128, 3, activation = 'relu', padding = 'same', kernel_initializer = kernel_initializer)(pool1)\n",
        "#   conv2 = Dropout(0.1)(conv2)\n",
        "  conv2 = Conv2D(128, 3, activation = 'relu', padding = 'same', kernel_initializer = kernel_initializer)(conv2)\n",
        "  pool2 = MaxPooling2D(pool_size=(2, 2))(conv2)\n",
        "\n",
        "  conv3 = Conv2D(256, 3, activation = 'relu', padding = 'same', kernel_initializer = kernel_initializer)(pool2)\n",
        "#   conv3 = Dropout(0.2)(conv3)\n",
        "  conv3 = Conv2D(256, 3, activation = 'relu', padding = 'same', kernel_initializer = kernel_initializer)(conv3)\n",
        "  pool3 = MaxPooling2D(pool_size=(2, 2))(conv3)\n",
        "  conv4 = Conv2D(512, 3, activation = 'relu', padding = 'same', kernel_initializer = kernel_initializer)(pool3)\n",
        "  conv4 = Conv2D(512, 3, activation = 'relu', padding = 'same', kernel_initializer = kernel_initializer)(conv4)\n",
        "#   drop4 = Dropout(0.2)(conv4)\n",
        "  pool4 = MaxPooling2D(pool_size=(2, 2))(conv4)\n",
        "\n",
        "  conv5 = Conv2D(1024, 3, activation = 'relu', padding = 'same', kernel_initializer = kernel_initializer)(pool4)\n",
        "  conv5 = Conv2D(1024, 3, activation = 'relu', padding = 'same', kernel_initializer = kernel_initializer)(conv5)\n",
        "#   drop5 = Dropout(0.2)(conv5)\n",
        "\n",
        "  up6 = Conv2D(512, 2, activation = 'relu', padding = 'same', kernel_initializer = kernel_initializer)(UpSampling2D(size = (2,2))(conv5))\n",
        "  merge6 = merge([conv4,up6], mode = 'concat', concat_axis = 3)\n",
        "  conv6 = Conv2D(512, 3, activation = 'relu', padding = 'same', kernel_initializer = kernel_initializer)(merge6)\n",
        "#   drop6 = Dropout(0.2)(conv6)\n",
        "  conv6 = Conv2D(512, 3, activation = 'relu', padding = 'same', kernel_initializer = kernel_initializer)(conv6)\n",
        "\n",
        "  up7 = Conv2D(256, 2, activation = 'relu', padding = 'same', kernel_initializer = kernel_initializer)(UpSampling2D(size = (2,2))(conv6))\n",
        "  merge7 = merge([conv3,up7], mode = 'concat', concat_axis = 3)\n",
        "  conv7 = Conv2D(256, 3, activation = 'relu', padding = 'same', kernel_initializer = kernel_initializer)(merge7)\n",
        "#   conv7 = Dropout(0.3)(conv7)\n",
        "  conv7 = Conv2D(256, 3, activation = 'relu', padding = 'same', kernel_initializer = kernel_initializer)(conv7)\n",
        "\n",
        "  up8 = Conv2D(128, 2, activation = 'relu', padding = 'same', kernel_initializer = kernel_initializer)(UpSampling2D(size = (2,2))(conv7))\n",
        "  merge8 = merge([conv2,up8], mode = 'concat', concat_axis = 3)\n",
        "  conv8 = Conv2D(128, 3, activation = 'relu', padding = 'same', kernel_initializer = kernel_initializer)(merge8)\n",
        "#   conv8 = Dropout(0.2)(conv8)\n",
        "  conv8 = Conv2D(128, 3, activation = 'relu', padding = 'same', kernel_initializer = kernel_initializer)(conv8)\n",
        "\n",
        "  up9 = Conv2D(64, 2, activation = 'relu', padding = 'same', kernel_initializer = kernel_initializer)(UpSampling2D(size = (2,2))(conv8))\n",
        "  merge9 = merge([conv1,up9], mode = 'concat', concat_axis = 3)\n",
        "  conv9 = Conv2D(64, 3, activation = 'relu', padding = 'same', kernel_initializer = kernel_initializer)(merge9)\n",
        "  conv9 = Conv2D(64, 3, activation = 'relu', padding = 'same', kernel_initializer = kernel_initializer)(conv9)\n",
        "  conv9 = Conv2D(2, 3, activation = 'relu', padding = 'same', kernel_initializer = kernel_initializer)(conv9)\n",
        "  \n",
        "  conv10 = Conv2D(1, 1, activation = 'sigmoid')(conv9)\n",
        "  \n",
        "  #   morpho = tf.nn.erosion2d(np.array(conv10),tf.cast(8, tf.float32),[1,1,1,1],[1,1,1,1],'SAME')\n",
        "\n",
        "  model = Model(input = inputs, output = conv10, name='Generator')\n",
        "\n",
        "  model.compile(optimizer = Adam(lr = 1e-4), loss = 'binary_crossentropy', metrics = [iou])\n",
        "  #model.compile(optimizer = 'rmsprop', loss = 'binary_crossentropy', metrics = [iou])\n",
        "\n",
        "  #print(model.summary())\n",
        "  \n",
        "  return model\n",
        "\n",
        "\n",
        "\n",
        "# U-NET Architecture.\n",
        "def create_unet_model_reduced():\n",
        "  \"\"\"\n",
        "  Based on U-Net architecture, convolutional kernels has been reduced because\n",
        "  our training images are near to half the resolution of the U-Net example.\n",
        "  \"\"\"\n",
        "  inputs = Input((256, 256,3))\n",
        "  \n",
        "  conv1 = Conv2D(64, 3, padding = 'same', kernel_initializer = 'he_normal')(inputs) # 64 : 4 = 16\n",
        "  conv1 = LeakyReLU(alpha=0.3)(conv1)\n",
        "  conv1 = Conv2D(64, 3, padding = 'same', kernel_initializer = 'he_normal')(conv1)  # \"\"\n",
        "  conv1 = LeakyReLU(alpha=0.3)(conv1)\n",
        "  pool1 = MaxPooling2D(pool_size=(2, 2))(conv1)\n",
        "\n",
        "  conv2 = Conv2D(128, 3, padding = 'same', kernel_initializer = 'he_normal')(pool1) # 128 : 4 = 32\n",
        "  conv2 = LeakyReLU(alpha=0.3)(conv2)\n",
        "  conv2 = Conv2D(128, 3, padding = 'same', kernel_initializer = 'he_normal')(conv2) # \"\"\n",
        "  conv2 = LeakyReLU(alpha=0.3)(conv2)\n",
        "  pool2 = MaxPooling2D(pool_size=(2, 2))(conv2)\n",
        "\n",
        "  conv3 = Conv2D(256, 3, padding = 'same', kernel_initializer = 'he_normal')(pool2)# 256 : 4 = 64\n",
        "  conv3 = LeakyReLU(alpha=0.3)(conv3)\n",
        "  conv3 = Conv2D(256, 3, padding = 'same', kernel_initializer = 'he_normal')(conv3)\n",
        "  conv3 = LeakyReLU(alpha=0.3)(conv3)\n",
        "  pool3 = MaxPooling2D(pool_size=(2, 2))(conv3)\n",
        "  conv4 = Conv2D(512, 3, padding = 'same', kernel_initializer = 'he_normal')(pool3)# 512 : 4 = 128\n",
        "  conv4 = LeakyReLU(alpha=0.3)(conv4)\n",
        "  conv4 = Conv2D(512, 3, padding = 'same', kernel_initializer = 'he_normal')(conv4) \n",
        "  conv4 = LeakyReLU(alpha=0.3)(conv4)\n",
        "  drop4 = Dropout(0.5)(conv4)\n",
        "  pool4 = MaxPooling2D(pool_size=(2, 2))(drop4)\n",
        "\n",
        "  conv5 = Conv2D(1024, 3,padding = 'same', kernel_initializer = 'he_normal')(pool4)\n",
        "  conv5 = LeakyReLU(alpha=0.3)(conv5)\n",
        "  conv5 = Conv2D(1024, 3,padding = 'same', kernel_initializer = 'he_normal')(conv5)\n",
        "  conv5 = LeakyReLU(alpha=0.3)(conv5)\n",
        "  drop5 = Dropout(0.5)(conv5)\n",
        "\n",
        "  up6 = Conv2D(512, 2, padding = 'same', kernel_initializer = 'he_normal')(UpSampling2D(size = (2,2))(drop5))\n",
        "  up6 = LeakyReLU(alpha=0.3)(up6)\n",
        "  merge6 = merge([drop4,up6], mode = 'concat', concat_axis = 3)\n",
        "  conv6 = Conv2D(512, 3, padding = 'same', kernel_initializer = 'he_normal')(merge6)\n",
        "  conv6 = LeakyReLU(alpha=0.3)(conv6)\n",
        "  conv6 = Conv2D(512, 3, padding = 'same', kernel_initializer = 'he_normal')(conv6)\n",
        "  conv6 = LeakyReLU(alpha=0.3)(conv6)\n",
        "  \n",
        "  up7 = Conv2D(256, 2, padding = 'same', kernel_initializer = 'he_normal')(UpSampling2D(size = (2,2))(conv6))\n",
        "  up7 = LeakyReLU(alpha=0.3)(up7)\n",
        "  merge7 = merge([conv3,up7], mode = 'concat', concat_axis = 3)\n",
        "  conv7 = Conv2D(256, 3, padding = 'same', kernel_initializer = 'he_normal')(merge7)\n",
        "  conv7 = LeakyReLU(alpha=0.3)(conv7)\n",
        "  conv7 = Conv2D(256, 3, padding = 'same', kernel_initializer = 'he_normal')(conv7)\n",
        "  conv7 = LeakyReLU(alpha=0.3)(conv7)\n",
        "  \n",
        "  up8 = Conv2D(128, 2,padding = 'same', kernel_initializer = 'he_normal')(UpSampling2D(size = (2,2))(conv7))\n",
        "  up8 = LeakyReLU(alpha=0.3)(up8)\n",
        "  merge8 = merge([conv2,up8], mode = 'concat', concat_axis = 3)\n",
        "  conv8 = Conv2D(128, 3, padding = 'same', kernel_initializer = 'he_normal')(merge8)\n",
        "  conv8 = LeakyReLU(alpha=0.3)(conv8)\n",
        "  conv8 = Conv2D(128, 3, padding = 'same', kernel_initializer = 'he_normal')(conv8)\n",
        "  conv8 = LeakyReLU(alpha=0.3)(conv8)\n",
        "  \n",
        "  up9 = Conv2D(64, 2, padding = 'same', kernel_initializer = 'he_normal')(UpSampling2D(size = (2,2))(conv8))\n",
        "  up9 = LeakyReLU(alpha=0.3)(up9)\n",
        "  merge9 = merge([conv1,up9], mode = 'concat', concat_axis = 3)\n",
        "  conv9 = Conv2D(64, 3, padding = 'same', kernel_initializer = 'he_normal')(merge9)\n",
        "  conv9 = LeakyReLU(alpha=0.3)(conv9)\n",
        "  conv9 = Conv2D(64, 3, padding = 'same', kernel_initializer = 'he_normal')(conv9)\n",
        "  conv9 = LeakyReLU(alpha=0.3)(conv9)\n",
        "  conv9 = Conv2D(2, 3, padding = 'same', kernel_initializer = 'he_normal')(conv9)\n",
        "  conv9 = LeakyReLU(alpha=0.3)(conv9)\n",
        "  conv10 = Conv2D(1, 1, activation = 'sigmoid')(conv9)\n",
        "  #   morpho = Lambda(lambda x: grey_dilation(grey_erosion(x,size=8),6))(conv10)\n",
        "\n",
        "  model = Model(input = inputs, output = conv10)\n",
        "\n",
        "  model.compile(optimizer = Adam(lr = 1e-4), loss = 'binary_crossentropy', metrics = [iou])\n",
        "  #model.compile(optimizer = 'rmsprop', loss = 'binary_crossentropy', metrics = [iou])\n",
        "\n",
        "  #   print(model.summary())\n",
        "  \n",
        "  return model\n",
        "  \n",
        "models = {\n",
        "    \"unet_original\": create_unet_model_original,\n",
        "    \"unet_reduced\": create_unet_model_reduced\n",
        "}\n",
        "\n",
        "model = models[model_choice]()"
      ],
      "execution_count": 7,
      "outputs": [
        {
          "output_type": "stream",
          "text": [
            "/usr/local/lib/python3.6/dist-packages/ipykernel_launcher.py:114: UserWarning: The `merge` function is deprecated and will be removed after 08/2017. Use instead layers from `keras.layers.merge`, e.g. `add`, `concatenate`, etc.\n",
            "/usr/local/lib/python3.6/dist-packages/ipykernel_launcher.py:122: UserWarning: The `merge` function is deprecated and will be removed after 08/2017. Use instead layers from `keras.layers.merge`, e.g. `add`, `concatenate`, etc.\n",
            "/usr/local/lib/python3.6/dist-packages/ipykernel_launcher.py:130: UserWarning: The `merge` function is deprecated and will be removed after 08/2017. Use instead layers from `keras.layers.merge`, e.g. `add`, `concatenate`, etc.\n",
            "/usr/local/lib/python3.6/dist-packages/ipykernel_launcher.py:138: UserWarning: The `merge` function is deprecated and will be removed after 08/2017. Use instead layers from `keras.layers.merge`, e.g. `add`, `concatenate`, etc.\n",
            "/usr/local/lib/python3.6/dist-packages/ipykernel_launcher.py:148: UserWarning: Update your `Model` call to the Keras 2 API: `Model(inputs=Tensor(\"in..., outputs=Tensor(\"co...)`\n"
          ],
          "name": "stderr"
        }
      ]
    },
    {
      "metadata": {
        "id": "gXfRquriSpUR",
        "colab_type": "code",
        "colab": {}
      },
      "cell_type": "code",
      "source": [
        "# #@title Discriminator network selection { vertical-output: true, display-mode: \"form\" }\n",
        "# model_choice = \"unet_original\" #@param [\"unet_original\", \"unet_reduced\"] {type:\"string\"}\n",
        "# # U-NET Architecture.\n",
        "# def create_unet_model_original():\n",
        "#   \"\"\"\n",
        "#   Based on U-Net architecture, convolutional kernels has been reduced because\n",
        "#   our training images are near to half the resolution of the U-Net example.\n",
        "#   \"\"\"\n",
        "#   inputs = Input((256, 256,3))\n",
        "  \n",
        "#   kernel_initializer = glorot_uniform(seed=2)\n",
        "  \n",
        "#   conv1 = Conv2D(64, 3, strides=(2,2) activation = 'relu', padding = 'same', kernel_initializer = kernel_initializer)(inputs)\n",
        "#   conv1 = BatchNormalization()(conv1)\n",
        "#   conv1 = Dropout(0.1)(conv1) # testing\n",
        "#   conv1 = Conv2D(64, 3, activation = 'relu', padding = 'same', kernel_initializer = kernel_initializer)(conv1)\n",
        "#   #pool1 = MaxPooling2D(pool_size=(2, 2))(conv1)\n",
        "\n",
        "#   conv2 = Conv2D(128, 3, activation = 'relu', padding = 'same', kernel_initializer = kernel_initializer)(conv1)\n",
        "#   conv2 = BatchNormalization()(conv2)\n",
        "#   conv2 = Dropout(0.1)(conv2)\n",
        "#   conv2 = Conv2D(128, 3, strides=(2,2) activation = 'relu', padding = 'same', kernel_initializer = kernel_initializer)(conv2)\n",
        "#   #pool2 = MaxPooling2D(pool_size=(2, 2))(conv2)\n",
        "\n",
        "#   conv3 = Conv2D(256, 3, activation = 'relu', padding = 'same', kernel_initializer = kernel_initializer)(conv2)\n",
        "#   conv3 = BatchNormalization()(conv3)\n",
        "#   conv3 = Dropout(0.2)(conv3)\n",
        "#   conv3 = Conv2D(256, 3, strides=(2,2), activation = 'relu', padding = 'same', kernel_initializer = kernel_initializer)(conv3)\n",
        "#   #pool3 = MaxPooling2D(pool_size=(2, 2))(conv3)\n",
        "#   conv4 = Conv2D(512, 3, activation = 'relu', padding = 'same', kernel_initializer = kernel_initializer)(conv3)\n",
        "#   conv4 = Conv2D(512, 3, strides=(2,2) activation = 'relu', padding = 'same', kernel_initializer = kernel_initializer)(conv4)\n",
        "#   conv4 = BatchNormalization()(conv4)\n",
        "#   drop4 = Dropout(0.2)(conv4)\n",
        "#   #pool4 = MaxPooling2D(pool_size=(2, 2))(drop4)\n",
        "\n",
        "#   conv5 = Conv2D(1024, 3, activation = 'relu', padding = 'same', kernel_initializer = kernel_initializer)(pool4)\n",
        "#   conv5 = Conv2D(1024, 3, activation = 'relu', padding = 'same', kernel_initializer = kernel_initializer)(conv5)\n",
        "#   drop5 = Dropout(0.2)(conv5)\n",
        "\n",
        "#   up6 = Conv2D(512, 2, activation = 'relu', padding = 'same', kernel_initializer = kernel_initializer)(UpSampling2D(size = (2,2))(drop5))\n",
        "#   merge6 = merge([drop4,up6], mode = 'concat', concat_axis = 3)\n",
        "#   conv6 = Conv2D(512, 3, activation = 'relu', padding = 'same', kernel_initializer = kernel_initializer)(merge6)\n",
        "#   drop6 = Dropout(0.2)(conv6)\n",
        "#   conv6 = Conv2D(512, 3, activation = 'relu', padding = 'same', kernel_initializer = kernel_initializer)(conv6)\n",
        "\n",
        "#   up7 = Conv2D(256, 2, activation = 'relu', padding = 'same', kernel_initializer = kernel_initializer)(UpSampling2D(size = (2,2))(conv6))\n",
        "#   merge7 = merge([conv3,up7], mode = 'concat', concat_axis = 3)\n",
        "#   conv7 = Conv2D(256, 3, activation = 'relu', padding = 'same', kernel_initializer = kernel_initializer)(merge7)\n",
        "#   conv7 = Dropout(0.3)(conv7)\n",
        "#   conv7 = Conv2D(256, 3, activation = 'relu', padding = 'same', kernel_initializer = kernel_initializer)(conv7)\n",
        "\n",
        "#   up8 = Conv2D(128, 2, activation = 'relu', padding = 'same', kernel_initializer = kernel_initializer)(UpSampling2D(size = (2,2))(conv7))\n",
        "#   merge8 = merge([conv2,up8], mode = 'concat', concat_axis = 3)\n",
        "#   conv8 = Conv2D(128, 3, activation = 'relu', padding = 'same', kernel_initializer = kernel_initializer)(merge8)\n",
        "#   conv8 = Dropout(0.2)(conv8)\n",
        "#   conv8 = Conv2D(128, 3, activation = 'relu', padding = 'same', kernel_initializer = kernel_initializer)(conv8)\n",
        "\n",
        "#   up9 = Conv2D(64, 2, activation = 'relu', padding = 'same', kernel_initializer = kernel_initializer)(UpSampling2D(size = (2,2))(conv8))\n",
        "#   merge9 = merge([conv1,up9], mode = 'concat', concat_axis = 3)\n",
        "#   conv9 = Conv2D(64, 3, activation = 'relu', padding = 'same', kernel_initializer = kernel_initializer)(merge9)\n",
        "#   conv9 = Conv2D(64, 3, activation = 'relu', padding = 'same', kernel_initializer = kernel_initializer)(conv9)\n",
        "#   conv9 = Conv2D(2, 3, activation = 'relu', padding = 'same', kernel_initializer = kernel_initializer)(conv9)\n",
        "#   conv10 = Conv2D(1, 1, activation = 'sigmoid')(conv9)\n",
        "#   #   morpho = tf.nn.erosion2d(np.array(conv10),tf.cast(8, tf.float32),[1,1,1,1],[1,1,1,1],'SAME')\n",
        "\n",
        "#   model = Model(input = inputs, output = conv10, name='Generator')\n",
        "\n",
        "#   model.compile(optimizer = Adam(lr = 1e-4), loss = 'binary_crossentropy', metrics = [iou])\n",
        "#   #model.compile(optimizer = 'rmsprop', loss = 'binary_crossentropy', metrics = [iou])\n",
        "\n",
        "#   #print(model.summary())\n",
        "  \n",
        "#   return model\n",
        "\n",
        "\n",
        "\n",
        "# # U-NET Architecture.\n",
        "# def create_unet_model_reduced():\n",
        "#   \"\"\"\n",
        "#   Based on U-Net architecture, convolutional kernels has been reduced because\n",
        "#   our training images are near to half the resolution of the U-Net example.\n",
        "#   \"\"\"\n",
        "#   inputs = Input((256, 256,3))\n",
        "  \n",
        "#   conv1 = Conv2D(16, 3, padding = 'same', kernel_initializer = 'he_normal')(inputs) # 64 : 4 = 16\n",
        "#   conv1 = LeakyReLU(alpha=0.3)(conv1)\n",
        "#   conv1 = Conv2D(16, 3, padding = 'same', kernel_initializer = 'he_normal')(conv1)  # \"\"\n",
        "#   conv1 = LeakyReLU(alpha=0.3)(conv1)\n",
        "#   pool1 = MaxPooling2D(pool_size=(2, 2))(conv1)\n",
        "\n",
        "#   conv2 = Conv2D(32, 3, padding = 'same', kernel_initializer = 'he_normal')(pool1) # 128 : 4 = 32\n",
        "#   conv2 = LeakyReLU(alpha=0.3)(conv2)\n",
        "#   conv2 = Conv2D(32, 3, padding = 'same', kernel_initializer = 'he_normal')(conv2) # \"\"\n",
        "#   conv2 = LeakyReLU(alpha=0.3)(conv2)\n",
        "#   pool2 = MaxPooling2D(pool_size=(2, 2))(conv2)\n",
        "\n",
        "#   conv3 = Conv2D(64, 3, padding = 'same', kernel_initializer = 'he_normal')(pool2)# 256 : 4 = 64\n",
        "#   conv3 = LeakyReLU(alpha=0.3)(conv3)\n",
        "#   conv3 = Conv2D(64, 3, padding = 'same', kernel_initializer = 'he_normal')(conv3)\n",
        "#   conv3 = LeakyReLU(alpha=0.3)(conv3)\n",
        "#   pool3 = MaxPooling2D(pool_size=(2, 2))(conv3)\n",
        "#   conv4 = Conv2D(128, 3, padding = 'same', kernel_initializer = 'he_normal')(pool3)# 512 : 4 = 128\n",
        "#   conv4 = LeakyReLU(alpha=0.3)(conv4)\n",
        "#   conv4 = Conv2D(128, 3, padding = 'same', kernel_initializer = 'he_normal')(conv4) \n",
        "#   conv4 = LeakyReLU(alpha=0.3)(conv4)\n",
        "#   drop4 = Dropout(0.5)(conv4)\n",
        "#   pool4 = MaxPooling2D(pool_size=(2, 2))(drop4)\n",
        "\n",
        "#   conv5 = Conv2D(256, 3,padding = 'same', kernel_initializer = 'he_normal')(pool4)\n",
        "#   conv5 = LeakyReLU(alpha=0.3)(conv5)\n",
        "#   conv5 = Conv2D(256, 3,padding = 'same', kernel_initializer = 'he_normal')(conv5)\n",
        "#   conv5 = LeakyReLU(alpha=0.3)(conv5)\n",
        "#   drop5 = Dropout(0.5)(conv5)\n",
        "\n",
        "#   up6 = Conv2D(128, 2, padding = 'same', kernel_initializer = 'he_normal')(UpSampling2D(size = (2,2))(drop5))\n",
        "#   up6 = LeakyReLU(alpha=0.3)(up6)\n",
        "#   merge6 = merge([drop4,up6], mode = 'concat', concat_axis = 3)\n",
        "#   conv6 = Conv2D(128, 3, padding = 'same', kernel_initializer = 'he_normal')(merge6)\n",
        "#   conv6 = LeakyReLU(alpha=0.3)(conv6)\n",
        "#   conv6 = Conv2D(128, 3, padding = 'same', kernel_initializer = 'he_normal')(conv6)\n",
        "#   conv6 = LeakyReLU(alpha=0.3)(conv6)\n",
        "  \n",
        "#   up7 = Conv2D(64, 2, padding = 'same', kernel_initializer = 'he_normal')(UpSampling2D(size = (2,2))(conv6))\n",
        "#   up7 = LeakyReLU(alpha=0.3)(up7)\n",
        "#   merge7 = merge([conv3,up7], mode = 'concat', concat_axis = 3)\n",
        "#   conv7 = Conv2D(64, 3, padding = 'same', kernel_initializer = 'he_normal')(merge7)\n",
        "#   conv7 = LeakyReLU(alpha=0.3)(conv7)\n",
        "#   conv7 = Conv2D(64, 3, padding = 'same', kernel_initializer = 'he_normal')(conv7)\n",
        "#   conv7 = LeakyReLU(alpha=0.3)(conv7)\n",
        "  \n",
        "#   up8 = Conv2D(32, 2,padding = 'same', kernel_initializer = 'he_normal')(UpSampling2D(size = (2,2))(conv7))\n",
        "#   up8 = LeakyReLU(alpha=0.3)(up8)\n",
        "#   merge8 = merge([conv2,up8], mode = 'concat', concat_axis = 3)\n",
        "#   conv8 = Conv2D(32, 3, padding = 'same', kernel_initializer = 'he_normal')(merge8)\n",
        "#   conv8 = LeakyReLU(alpha=0.3)(conv8)\n",
        "#   conv8 = Conv2D(32, 3, padding = 'same', kernel_initializer = 'he_normal')(conv8)\n",
        "#   conv8 = LeakyReLU(alpha=0.3)(conv8)\n",
        "  \n",
        "#   up9 = Conv2D(16, 2, padding = 'same', kernel_initializer = 'he_normal')(UpSampling2D(size = (2,2))(conv8))\n",
        "#   up9 = LeakyReLU(alpha=0.3)(up9)\n",
        "#   merge9 = merge([conv1,up9], mode = 'concat', concat_axis = 3)\n",
        "#   conv9 = Conv2D(16, 3, padding = 'same', kernel_initializer = 'he_normal')(merge9)\n",
        "#   conv9 = LeakyReLU(alpha=0.3)(conv9)\n",
        "#   conv9 = Conv2D(16, 3, padding = 'same', kernel_initializer = 'he_normal')(conv9)\n",
        "#   conv9 = LeakyReLU(alpha=0.3)(conv9)\n",
        "#   conv9 = Conv2D(2, 3, padding = 'same', kernel_initializer = 'he_normal')(conv9)\n",
        "#   conv9 = LeakyReLU(alpha=0.3)(conv9)\n",
        "#   conv10 = Conv2D(1, 1, activation = 'sigmoid')(conv9)\n",
        "#   #   morpho = Lambda(lambda x: grey_dilation(grey_erosion(x,size=8),6))(conv10)\n",
        "\n",
        "#   model = Model(input = inputs, output = conv10)\n",
        "\n",
        "#   model.compile(optimizer = Adam(lr = 1e-4), loss = 'binary_crossentropy', metrics = [iou])\n",
        "#   #model.compile(optimizer = 'rmsprop', loss = 'binary_crossentropy', metrics = [iou])\n",
        "\n",
        "#   #   print(model.summary())\n",
        "  \n",
        "#   return model\n",
        "  \n",
        "# models = {\n",
        "#     \"unet_original\": create_unet_model_original,\n",
        "#     \"unet_reduced\": create_unet_model_reduced\n",
        "# }"
      ],
      "execution_count": 0,
      "outputs": []
    },
    {
      "metadata": {
        "id": "XJCfMtpco9dZ",
        "colab_type": "text"
      },
      "cell_type": "markdown",
      "source": [
        "### Adversarial model\n"
      ]
    },
    {
      "metadata": {
        "id": "JBVIalanpDos",
        "colab_type": "code",
        "colab": {}
      },
      "cell_type": "code",
      "source": [
        "def create_gan(generator, discriminator):\n",
        "  \"\"\"\n",
        "  \"\"\"\n",
        "  GAN = keras.models.Sequential([generator, discriminator], name='GAN')\n",
        "  GAN.compile(optimizer=Adam(lr=1e4), loss='binary_crossentropy')\n",
        "  GAN.summary()\n",
        "  return GAN"
      ],
      "execution_count": 0,
      "outputs": []
    },
    {
      "metadata": {
        "id": "jyepOs6T6DXD",
        "colab_type": "code",
        "colab": {}
      },
      "cell_type": "code",
      "source": [
        "def set_trainability(model, trainable=False):\n",
        "    model.trainable = trainable\n",
        "    for layer in model.layers:\n",
        "        layer.trainable = trainable"
      ],
      "execution_count": 0,
      "outputs": []
    },
    {
      "metadata": {
        "id": "GrCAZWVrglt_",
        "colab_type": "text"
      },
      "cell_type": "markdown",
      "source": [
        "## Data augmentation"
      ]
    },
    {
      "metadata": {
        "id": "bX0-ECK_nabl",
        "colab_type": "code",
        "colab": {}
      },
      "cell_type": "code",
      "source": [
        "def get_data_augmentation_generators(batch_size):\n",
        "  \"\"\"\n",
        "  \"\"\"\n",
        "  # we create two instances with the same arguments\n",
        "  data_gen_args = dict(rotation_range=60,\n",
        "                       width_shift_range=0.,\n",
        "                       height_shift_range=0.,\n",
        "                       zoom_range=0.)\n",
        "  image_datagen = ImageDataGenerator(**data_gen_args)\n",
        "  mask_datagen = ImageDataGenerator(**data_gen_args)\n",
        "\n",
        "  val_image_datagen = ImageDataGenerator(**data_gen_args)\n",
        "  val_mask_datagen = ImageDataGenerator(**data_gen_args)\n",
        "\n",
        "  # Provide the same seed and keyword arguments to the fit and flow methods\n",
        "  seed = 1\n",
        "  image_datagen.fit(copy(np.array(X_train)[:600]), augment=True, seed=seed) # 600 forces to use len(X) as batch size in training, because the last batch_size would be for example 24 instead of 32.\n",
        "  mask_datagen.fit(copy(np.array(Y_train)[:600]), augment=True, seed=seed)\n",
        "\n",
        "  val_image_datagen.fit(copy(np.array(X_train)[600:]), augment=True, seed=seed)\n",
        "  val_mask_datagen.fit(copy(np.array(Y_train)[600:]), augment=True, seed=seed)\n",
        "\n",
        "  image_generator = image_datagen.flow(copy(np.array(X_train)[:600]),seed=seed, batch_size=batch_size)\n",
        "\n",
        "  mask_generator = mask_datagen.flow(copy(np.array(Y_train)[:600]),seed=seed, batch_size=batch_size)\n",
        "\n",
        "  val_image_generator = val_image_datagen.flow(copy(np.array(X_train)[600:]),seed=seed, batch_size=batch_size)\n",
        "\n",
        "  val_mask_generator = val_mask_datagen.flow(copy(np.array(Y_train)[600:]),seed=seed, batch_size=batch_size)\n",
        "\n",
        "  # combine generators into one which yields image and masks\n",
        "  train_generator = zip(image_generator, mask_generator)\n",
        "  validation_generator = zip(val_image_generator, val_mask_generator)\n",
        "  return train_generator, validation_generator\n",
        "\n",
        "def get_batches_for_gan_augmented(train_generator, batch_size=32, n_samples=1000):\n",
        "  \"\"\"\n",
        "  \"\"\"\n",
        "  x_examples = []\n",
        "  y_examples = []\n",
        "  end_loop = int(n_samples/batch_size)\n",
        "  for i, (x,y) in enumerate(train_generator):\n",
        "    if i == end_loop:\n",
        "      break;\n",
        "    x_examples.append(x)\n",
        "    y_examples.append(y)\n",
        "  return zip(np.array(x_examples), np.array(y_examples))\n",
        "    "
      ],
      "execution_count": 0,
      "outputs": []
    },
    {
      "metadata": {
        "id": "rKUTSTd3FzIH",
        "colab_type": "text"
      },
      "cell_type": "markdown",
      "source": [
        "## GAN Training"
      ]
    },
    {
      "metadata": {
        "id": "nuYM8HHBGFB9",
        "colab_type": "text"
      },
      "cell_type": "markdown",
      "source": [
        "### Augmented training"
      ]
    },
    {
      "metadata": {
        "id": "5lwpS-WcW8P6",
        "colab_type": "code",
        "colab": {
          "base_uri": "https://localhost:8080/",
          "height": 663
        },
        "outputId": "6c6b01d8-2863-47ef-d4c6-a7d9f08cc875"
      },
      "cell_type": "code",
      "source": [
        "from functools import reduce\n",
        "\n",
        "def train_gan_augmented(GAN, G, D, epochs=3, n_samples=2000, batch_size=8):\n",
        "  \"\"\"\n",
        "  \"\"\"\n",
        "  d_loss = []\n",
        "  g_loss = []\n",
        "  smooth_labels = 0\n",
        "  epochs_range = range(epochs)\n",
        "  train_generator, _ = get_data_augmentation_generators(batch_size)\n",
        "  #x_augmented, y_augmented = get_batches_for_gan_augmented(train_generator, batch_size, n_samples)\n",
        "  for epoch in epochs_range:\n",
        "    print(\"[epoch %s]\" %epoch)\n",
        "    # Train discriminator\n",
        "    # Do it separately for real and fake images\n",
        "    #     batches = range(int(n_samples/batch_size))\n",
        "    d_loss_batch = []\n",
        "    for batch, (X,Y) in enumerate(get_batches_for_gan_augmented(train_generator, batch_size, n_samples)):\n",
        "      half_batch = int(len(X) / 2)\n",
        "      #       sys.stdout.write('\\r'+\" Batch %s/%s %s/%s\" %(batch, int(n_samples/batch_size), len(X),len(X)))\n",
        "      real_images, real_labels = Y[:half_batch], np.ones((half_batch, 1, 1, 1)) - smooth_labels # see: https://github.com/soumith/ganhacks#6-use-soft-and-noisy-labels\n",
        "      fake_images, fake_labels = G.predict(X[half_batch:]), np.zeros((half_batch, 1, 1, 1)) + smooth_labels\n",
        "      set_trainability(D, True)\n",
        "      d_loss_real = D.train_on_batch(real_images, real_labels)\n",
        "      d_loss_fake = D.train_on_batch(fake_images, fake_labels)\n",
        "      set_trainability(D, False)\n",
        "      g_loss.append(GAN.train_on_batch(X, np.ones((len(X), 1, 1, 1))-smooth_labels))\n",
        "      d_loss_batch.append(0.5 * np.add(d_loss_real, d_loss_fake))\n",
        "      #       sys.stdout.write('\\r'+\"Batch %s/%s --> (d_real,d_fake): (%s,%s) || (d_loss,g_loss) = (%s, %s)\" %(batch, int(n_samples/batch_size),d_loss_real,d_loss_fake, d_loss[epoch], g_loss[int(epoch/3)]))\n",
        "      img = 256*G.predict(X[0:3])[1]\n",
        "      if (epoch % 3) == 0:\n",
        "        g_loss.append(GAN.train_on_batch(X, np.ones((len(X), 1, 1, 1))-smooth_labels))\n",
        "        sys.stdout.write('\\r'+\"Batch %s/%s --> (d_real,d_fake): (%s,%s) || (d_loss,g_loss) = (%s, %s)\" %(batch, int(n_samples/batch_size),d_loss_real,d_loss_fake, d_loss[-1], g_loss[-1]))\n",
        "      else:\n",
        "        sys.stdout.write('\\r'+\"Batch %s/%s --> (d_loss, -) = (%s, -)\" %(batch, int(n_samples/batch_size), d_loss[-1]))\n",
        "      if (epoch % 3) == 0:\n",
        "        _ = plt.imshow(img.reshape(256,256))\n",
        "        _ = plt.show()\n",
        "        _ = plt.gcf().clear()\n",
        "      d_loss.append(reduce(lambda x,y: (x+y)/2), d_loss_batch)\n",
        "\n",
        "  \n",
        "discriminator = create_discriminator()\n",
        "generator = models[model_choice]()\n",
        "GAN = create_gan(generator,discriminator)\n",
        "train_gan_augmented(GAN, generator, discriminator)"
      ],
      "execution_count": 13,
      "outputs": [
        {
          "output_type": "stream",
          "text": [
            "/usr/local/lib/python3.6/dist-packages/ipykernel_launcher.py:51: UserWarning: Update your `Model` call to the Keras 2 API: `Model(name=\"Discriminator\", inputs=Tensor(\"in..., outputs=Tensor(\"co...)`\n",
            "/usr/local/lib/python3.6/dist-packages/ipykernel_launcher.py:114: UserWarning: The `merge` function is deprecated and will be removed after 08/2017. Use instead layers from `keras.layers.merge`, e.g. `add`, `concatenate`, etc.\n",
            "/usr/local/lib/python3.6/dist-packages/ipykernel_launcher.py:122: UserWarning: The `merge` function is deprecated and will be removed after 08/2017. Use instead layers from `keras.layers.merge`, e.g. `add`, `concatenate`, etc.\n",
            "/usr/local/lib/python3.6/dist-packages/ipykernel_launcher.py:130: UserWarning: The `merge` function is deprecated and will be removed after 08/2017. Use instead layers from `keras.layers.merge`, e.g. `add`, `concatenate`, etc.\n",
            "/usr/local/lib/python3.6/dist-packages/ipykernel_launcher.py:138: UserWarning: The `merge` function is deprecated and will be removed after 08/2017. Use instead layers from `keras.layers.merge`, e.g. `add`, `concatenate`, etc.\n",
            "/usr/local/lib/python3.6/dist-packages/ipykernel_launcher.py:148: UserWarning: Update your `Model` call to the Keras 2 API: `Model(inputs=Tensor(\"in..., outputs=Tensor(\"co...)`\n"
          ],
          "name": "stderr"
        },
        {
          "output_type": "stream",
          "text": [
            "_________________________________________________________________\n",
            "Layer (type)                 Output Shape              Param #   \n",
            "=================================================================\n",
            "model_3 (Model)              (None, 256, 256, 1)       31032837  \n",
            "_________________________________________________________________\n",
            "Discriminator (Model)        (None, 1, 1, 1)           13953     \n",
            "=================================================================\n",
            "Total params: 31,046,790\n",
            "Trainable params: 31,046,182\n",
            "Non-trainable params: 608\n",
            "_________________________________________________________________\n",
            "[epoch 0]\n"
          ],
          "name": "stdout"
        },
        {
          "output_type": "error",
          "ename": "IndexError",
          "evalue": "ignored",
          "traceback": [
            "\u001b[0;31m---------------------------------------------------------------------------\u001b[0m",
            "\u001b[0;31mIndexError\u001b[0m                                Traceback (most recent call last)",
            "\u001b[0;32m<ipython-input-13-083e77935079>\u001b[0m in \u001b[0;36m<module>\u001b[0;34m()\u001b[0m\n\u001b[1;32m     44\u001b[0m \u001b[0mgenerator\u001b[0m \u001b[0;34m=\u001b[0m \u001b[0mmodels\u001b[0m\u001b[0;34m[\u001b[0m\u001b[0mmodel_choice\u001b[0m\u001b[0;34m]\u001b[0m\u001b[0;34m(\u001b[0m\u001b[0;34m)\u001b[0m\u001b[0;34m\u001b[0m\u001b[0m\n\u001b[1;32m     45\u001b[0m \u001b[0mGAN\u001b[0m \u001b[0;34m=\u001b[0m \u001b[0mcreate_gan\u001b[0m\u001b[0;34m(\u001b[0m\u001b[0mgenerator\u001b[0m\u001b[0;34m,\u001b[0m\u001b[0mdiscriminator\u001b[0m\u001b[0;34m)\u001b[0m\u001b[0;34m\u001b[0m\u001b[0m\n\u001b[0;32m---> 46\u001b[0;31m \u001b[0mtrain_gan_augmented\u001b[0m\u001b[0;34m(\u001b[0m\u001b[0mGAN\u001b[0m\u001b[0;34m,\u001b[0m \u001b[0mgenerator\u001b[0m\u001b[0;34m,\u001b[0m \u001b[0mdiscriminator\u001b[0m\u001b[0;34m)\u001b[0m\u001b[0;34m\u001b[0m\u001b[0m\n\u001b[0m",
            "\u001b[0;32m<ipython-input-13-083e77935079>\u001b[0m in \u001b[0;36mtrain_gan_augmented\u001b[0;34m(GAN, G, D, epochs, n_samples, batch_size)\u001b[0m\n\u001b[1;32m     31\u001b[0m       \u001b[0;32mif\u001b[0m \u001b[0;34m(\u001b[0m\u001b[0mepoch\u001b[0m \u001b[0;34m%\u001b[0m \u001b[0;36m3\u001b[0m\u001b[0;34m)\u001b[0m \u001b[0;34m==\u001b[0m \u001b[0;36m0\u001b[0m\u001b[0;34m:\u001b[0m\u001b[0;34m\u001b[0m\u001b[0m\n\u001b[1;32m     32\u001b[0m         \u001b[0mg_loss\u001b[0m\u001b[0;34m.\u001b[0m\u001b[0mappend\u001b[0m\u001b[0;34m(\u001b[0m\u001b[0mGAN\u001b[0m\u001b[0;34m.\u001b[0m\u001b[0mtrain_on_batch\u001b[0m\u001b[0;34m(\u001b[0m\u001b[0mX\u001b[0m\u001b[0;34m,\u001b[0m \u001b[0mnp\u001b[0m\u001b[0;34m.\u001b[0m\u001b[0mones\u001b[0m\u001b[0;34m(\u001b[0m\u001b[0;34m(\u001b[0m\u001b[0mlen\u001b[0m\u001b[0;34m(\u001b[0m\u001b[0mX\u001b[0m\u001b[0;34m)\u001b[0m\u001b[0;34m,\u001b[0m \u001b[0;36m1\u001b[0m\u001b[0;34m,\u001b[0m \u001b[0;36m1\u001b[0m\u001b[0;34m,\u001b[0m \u001b[0;36m1\u001b[0m\u001b[0;34m)\u001b[0m\u001b[0;34m)\u001b[0m\u001b[0;34m-\u001b[0m\u001b[0msmooth_labels\u001b[0m\u001b[0;34m)\u001b[0m\u001b[0;34m)\u001b[0m\u001b[0;34m\u001b[0m\u001b[0m\n\u001b[0;32m---> 33\u001b[0;31m         \u001b[0msys\u001b[0m\u001b[0;34m.\u001b[0m\u001b[0mstdout\u001b[0m\u001b[0;34m.\u001b[0m\u001b[0mwrite\u001b[0m\u001b[0;34m(\u001b[0m\u001b[0;34m'\\r'\u001b[0m\u001b[0;34m+\u001b[0m\u001b[0;34m\"Batch %s/%s --> (d_real,d_fake): (%s,%s) || (d_loss,g_loss) = (%s, %s)\"\u001b[0m \u001b[0;34m%\u001b[0m\u001b[0;34m(\u001b[0m\u001b[0mbatch\u001b[0m\u001b[0;34m,\u001b[0m \u001b[0mint\u001b[0m\u001b[0;34m(\u001b[0m\u001b[0mn_samples\u001b[0m\u001b[0;34m/\u001b[0m\u001b[0mbatch_size\u001b[0m\u001b[0;34m)\u001b[0m\u001b[0;34m,\u001b[0m\u001b[0md_loss_real\u001b[0m\u001b[0;34m,\u001b[0m\u001b[0md_loss_fake\u001b[0m\u001b[0;34m,\u001b[0m \u001b[0md_loss\u001b[0m\u001b[0;34m[\u001b[0m\u001b[0;34m-\u001b[0m\u001b[0;36m1\u001b[0m\u001b[0;34m]\u001b[0m\u001b[0;34m,\u001b[0m \u001b[0mg_loss\u001b[0m\u001b[0;34m[\u001b[0m\u001b[0;34m-\u001b[0m\u001b[0;36m1\u001b[0m\u001b[0;34m]\u001b[0m\u001b[0;34m)\u001b[0m\u001b[0;34m)\u001b[0m\u001b[0;34m\u001b[0m\u001b[0m\n\u001b[0m\u001b[1;32m     34\u001b[0m       \u001b[0;32melse\u001b[0m\u001b[0;34m:\u001b[0m\u001b[0;34m\u001b[0m\u001b[0m\n\u001b[1;32m     35\u001b[0m         \u001b[0msys\u001b[0m\u001b[0;34m.\u001b[0m\u001b[0mstdout\u001b[0m\u001b[0;34m.\u001b[0m\u001b[0mwrite\u001b[0m\u001b[0;34m(\u001b[0m\u001b[0;34m'\\r'\u001b[0m\u001b[0;34m+\u001b[0m\u001b[0;34m\"Batch %s/%s --> (d_loss, -) = (%s, -)\"\u001b[0m \u001b[0;34m%\u001b[0m\u001b[0;34m(\u001b[0m\u001b[0mbatch\u001b[0m\u001b[0;34m,\u001b[0m \u001b[0mint\u001b[0m\u001b[0;34m(\u001b[0m\u001b[0mn_samples\u001b[0m\u001b[0;34m/\u001b[0m\u001b[0mbatch_size\u001b[0m\u001b[0;34m)\u001b[0m\u001b[0;34m,\u001b[0m \u001b[0md_loss\u001b[0m\u001b[0;34m[\u001b[0m\u001b[0;34m-\u001b[0m\u001b[0;36m1\u001b[0m\u001b[0;34m]\u001b[0m\u001b[0;34m)\u001b[0m\u001b[0;34m)\u001b[0m\u001b[0;34m\u001b[0m\u001b[0m\n",
            "\u001b[0;31mIndexError\u001b[0m: list index out of range"
          ]
        }
      ]
    },
    {
      "metadata": {
        "id": "B29WHQFBGAfg",
        "colab_type": "text"
      },
      "cell_type": "markdown",
      "source": [
        "### Not augmented training"
      ]
    },
    {
      "metadata": {
        "id": "HVTptbatF-ZZ",
        "colab_type": "code",
        "colab": {}
      },
      "cell_type": "code",
      "source": [
        "def train(GAN, G, D, epochs=20, n_samples=570, batch_size=8):\n",
        "  \"\"\"\n",
        "  \"\"\"\n",
        "  d_loss = []\n",
        "  g_loss = []\n",
        "  epochs_range = range(epochs)\n",
        "  for epoch in epochs_range:\n",
        "    batches = range(int(n_samples/batch_size))\n",
        "    for batch in batches:\n",
        "      half_batch = int(batch_size / 2)\n",
        "      sys.stdout.write('\\r'+\"[Epoch %s] Batch %s out of %s\" %(epoch, batch, batches[-1]))\n",
        "      if batch == batches[-1]:\n",
        "        from_ = half_batch * epoch\n",
        "        to_ = half_batch*epoch + half_batch\n",
        "        real_images, real_labels = np.array(Y_train[-half_batch:]), np.array(np.zeros((half_batch, 1, 1, 1)))\n",
        "        fake_images, fake_labels = generator.predict(np.array(X_train[-half_batch:])), np.array(np.ones((half_batch, 1, 1, 1)))\n",
        "      else:        \n",
        "        from_ = half_batch * epoch\n",
        "        to_ = half_batch*epoch + half_batch\n",
        "        real_images, real_labels = np.array(Y_train[from_:to_]), np.zeros((half_batch, 1, 1, 1))\n",
        "        fake_images, fake_labels = generator.predict(np.array(X_train[from_:to_])), np.array(np.ones((half_batch, 1, 1, 1)))\n",
        "      \n",
        "      set_trainability(discriminator, True)\n",
        "      d_loss_real = discriminator.train_on_batch(real_images, real_labels)\n",
        "      d_loss_fake = discriminator.train_on_batch(fake_images, fake_labels)\n",
        "      set_trainability(discriminator, False)\n",
        "      d_loss.append(0.5 * np.add(d_loss_real, d_loss_fake))\n",
        "      if (epoch % 3) == 0:\n",
        "        g_loss.append(GAN.train_on_batch(np.array(X_train[batch*epoch:batch*epoch +batch_size]), np.zeros((batch_size, 1, 1, 1))))\n",
        "    print(\"\\t\\tdiscriminator loss --> %s\" %(d_loss[epoch]))\n",
        "    if (epoch % 3) == 0:\n",
        "      print(\"\\t\\t generator loss --> %s\" %(g_loss[int(epoch/3)]))\n",
        "    \n",
        "      \n",
        "# discriminator = create_discriminator()\n",
        "# train(GAN, generator, discriminator)\n",
        "\n",
        "    "
      ],
      "execution_count": 0,
      "outputs": []
    },
    {
      "metadata": {
        "id": "cWGRDS_FdlHh",
        "colab_type": "text"
      },
      "cell_type": "markdown",
      "source": [
        "### Check if data augmentation is being done correctly."
      ]
    },
    {
      "metadata": {
        "id": "vyPPnXKGX21A",
        "colab_type": "code",
        "colab": {}
      },
      "cell_type": "code",
      "source": [
        "train = []\n",
        "mask = []\n",
        "for i,(x,y) in enumerate(copy(validation_generator)):\n",
        "  train.append(x)\n",
        "  mask.append(y)\n",
        "  if i == 3:\n",
        "    break\n",
        "    "
      ],
      "execution_count": 0,
      "outputs": []
    },
    {
      "metadata": {
        "id": "r6_pC52OYbvc",
        "colab_type": "code",
        "colab": {
          "base_uri": "https://localhost:8080/",
          "height": 300
        },
        "outputId": "bbe02c26-7c81-41d8-fa3a-6865fd2386b0"
      },
      "cell_type": "code",
      "source": [
        "t1 = train[0][6].reshape(256,256,3)\n",
        "m1 = mask[0][6].reshape(256,256)\n",
        "plt.figure(figsize=(15,10))\n",
        "plt.subplot(221)\n",
        "plt.imshow(t1, cmap='gray')\n",
        "plt.subplot(222)\n",
        "_ = plt.imshow(m1, cmap='gray')"
      ],
      "execution_count": 0,
      "outputs": [
        {
          "output_type": "display_data",
          "data": {
            "image/png": "[encoded data removed]",
            "text/plain": [
              "<matplotlib.figure.Figure at 0x7f65cb193d68>"
            ]
          },
          "metadata": {
            "tags": []
          }
        }
      ]
    },
    {
      "metadata": {
        "id": "T6zy9rCYg7mX",
        "colab_type": "text"
      },
      "cell_type": "markdown",
      "source": [
        "## Model training"
      ]
    },
    {
      "metadata": {
        "id": "zYrqNjIAVJWV",
        "colab_type": "text"
      },
      "cell_type": "markdown",
      "source": [
        "### Grid Search"
      ]
    },
    {
      "metadata": {
        "id": "RgdRMvPxVtgR",
        "colab_type": "text"
      },
      "cell_type": "markdown",
      "source": [
        "**Epochs and Batch Size**\n",
        "\n",
        "Best result: \n",
        " - Batch size: 8\n",
        " - Epochs: 6\n",
        " - validation size: 0.1\n",
        " - Leds to a result of 0.451843 val_iou\n",
        "[8, 6, 0.1, 0.4518430228553601]"
      ]
    },
    {
      "metadata": {
        "id": "LbmQtMkEcSTT",
        "colab_type": "code",
        "colab": {}
      },
      "cell_type": "code",
      "source": [
        "early_stopping = EarlyStopping(monitor='val_iou', min_delta=0, patience=10, verbose=1, mode='auto') #patience 10 because it wouldn't test anything.\n",
        "checkpoint = ModelCheckpoint('not_augmented_%sepochs_%ssteps_%batchsize.hdf5', monitor='val_iou', verbose=0, save_best_only=True, mode='max')\n",
        "callbacks = [checkpoint, early_stopping]\n",
        "\n",
        "results = list() # lists of 4 numb\n",
        "grid_batch_size = [8,16,24,32]\n",
        "grid_epochs = [3,6,9]\n",
        "grid_validation_size = [0.1, 0.2]\n",
        "\n",
        "for batch_size in grid_batch_size:\n",
        "  for epochs_g in grid_epochs:\n",
        "    for validation_size in grid_validation_size:\n",
        "      model = models[model_choice]()\n",
        "      print(\"GridSearch: [ batch size %i -- epochs %s -- validation size %s ]\" %(batch_size, epochs_g, validation_size))\n",
        "      _ = model.fit(np.array(X_train), np.array(Y_train), validation_split=validation_size, batch_size=batch_size, epochs=epochs_g, callbacks=callbacks, verbose=0)\n",
        "      validation_iou = max(model.history.history['val_iou'])\n",
        "      results.append([batch_size, epochs_g, validation_size, validation_iou])\n",
        "\n",
        "print(results)"
      ],
      "execution_count": 0,
      "outputs": []
    },
    {
      "metadata": {
        "id": "LL6IKWw7hWqL",
        "colab_type": "text"
      },
      "cell_type": "markdown",
      "source": [
        "### Augmented training"
      ]
    },
    {
      "metadata": {
        "id": "zghjqZ4DXU9o",
        "colab_type": "code",
        "colab": {
          "base_uri": "https://localhost:8080/",
          "height": 1510
        },
        "outputId": "e9036545-075b-455f-d9fd-5072e1a1401d"
      },
      "cell_type": "code",
      "source": [
        "#@title Parameter configuration { vertical-output: true, form-width: \"50%\", display-mode: \"form\" }\n",
        "epochs = 3 #@param {type:\"integer\", min:1, max:100, step:1}\n",
        "steps_per_epoch = 72 #@param {type:\"integer\", min:0, max:10000, step:1}\n",
        "\n",
        "# tsboard = keras.callbacks.TensorBoard(log_dir='./logs', histogram_freq=0, batch_size=64, write_graph=True,\n",
        "#                             write_grads=False,\n",
        "#                             write_images=False, embeddings_freq=0, embeddings_layer_names=None,\n",
        "#                             embeddings_metadata=None)\n",
        "\n",
        "early_stopping = EarlyStopping(monitor='val_iou', min_delta=0, patience=3, verbose=1, mode='auto')\n",
        "checkpoint = ModelCheckpoint('augmented_%sepochs_%ssteps.hdf5', monitor='val_iou', verbose=1, save_best_only=True, mode='max')\n",
        "callbacks = [checkpoint, early_stopping]\n",
        "train_generator, validation_generator = get_data_augmentation_generators(8)\n",
        "\n",
        "_ = model.fit_generator(\n",
        "    train_generator,\n",
        "    steps_per_epoch=steps_per_epoch,\n",
        "    validation_data=validation_generator,\n",
        "    validation_steps=12,\n",
        "    epochs=epochs,\n",
        "    callbacks=callbacks,\n",
        "    verbose=1)"
      ],
      "execution_count": 25,
      "outputs": [
        {
          "output_type": "stream",
          "text": [
            "Epoch 1/3\n",
            "72/72 [==============================] - 107s 1s/step - loss: 0.6754 - iou: 0.0000e+00 - val_loss: 0.6737 - val_iou: 0.0000e+00\n",
            "\n",
            "Epoch 00001: val_iou improved from -inf to 0.00000, saving model to augmented_%sepochs_%ssteps.hdf5\n",
            "Epoch 2/3\n",
            " 1/72 [..............................] - ETA: 1:35 - loss: 0.6743 - iou: 0.0000e+00"
          ],
          "name": "stdout"
        },
        {
          "output_type": "error",
          "ename": "KeyboardInterrupt",
          "evalue": "ignored",
          "traceback": [
            "\u001b[0;31m---------------------------------------------------------------------------\u001b[0m",
            "\u001b[0;31mKeyboardInterrupt\u001b[0m                         Traceback (most recent call last)",
            "\u001b[0;32m<ipython-input-25-0c58f3cc3c2e>\u001b[0m in \u001b[0;36m<module>\u001b[0;34m()\u001b[0m\n\u001b[1;32m     19\u001b[0m     \u001b[0mepochs\u001b[0m\u001b[0;34m=\u001b[0m\u001b[0mepochs\u001b[0m\u001b[0;34m,\u001b[0m\u001b[0;34m\u001b[0m\u001b[0m\n\u001b[1;32m     20\u001b[0m     \u001b[0mcallbacks\u001b[0m\u001b[0;34m=\u001b[0m\u001b[0mcallbacks\u001b[0m\u001b[0;34m,\u001b[0m\u001b[0;34m\u001b[0m\u001b[0m\n\u001b[0;32m---> 21\u001b[0;31m     verbose=1)\n\u001b[0m",
            "\u001b[0;32m/usr/local/lib/python3.6/dist-packages/keras/legacy/interfaces.py\u001b[0m in \u001b[0;36mwrapper\u001b[0;34m(*args, **kwargs)\u001b[0m\n\u001b[1;32m     89\u001b[0m                 warnings.warn('Update your `' + object_name +\n\u001b[1;32m     90\u001b[0m                               '` call to the Keras 2 API: ' + signature, stacklevel=2)\n\u001b[0;32m---> 91\u001b[0;31m             \u001b[0;32mreturn\u001b[0m \u001b[0mfunc\u001b[0m\u001b[0;34m(\u001b[0m\u001b[0;34m*\u001b[0m\u001b[0margs\u001b[0m\u001b[0;34m,\u001b[0m \u001b[0;34m**\u001b[0m\u001b[0mkwargs\u001b[0m\u001b[0;34m)\u001b[0m\u001b[0;34m\u001b[0m\u001b[0m\n\u001b[0m\u001b[1;32m     92\u001b[0m         \u001b[0mwrapper\u001b[0m\u001b[0;34m.\u001b[0m\u001b[0m_original_function\u001b[0m \u001b[0;34m=\u001b[0m \u001b[0mfunc\u001b[0m\u001b[0;34m\u001b[0m\u001b[0m\n\u001b[1;32m     93\u001b[0m         \u001b[0;32mreturn\u001b[0m \u001b[0mwrapper\u001b[0m\u001b[0;34m\u001b[0m\u001b[0m\n",
            "\u001b[0;32m/usr/local/lib/python3.6/dist-packages/keras/engine/training.py\u001b[0m in \u001b[0;36mfit_generator\u001b[0;34m(self, generator, steps_per_epoch, epochs, verbose, callbacks, validation_data, validation_steps, class_weight, max_queue_size, workers, use_multiprocessing, shuffle, initial_epoch)\u001b[0m\n\u001b[1;32m   2228\u001b[0m                     outs = self.train_on_batch(x, y,\n\u001b[1;32m   2229\u001b[0m                                                \u001b[0msample_weight\u001b[0m\u001b[0;34m=\u001b[0m\u001b[0msample_weight\u001b[0m\u001b[0;34m,\u001b[0m\u001b[0;34m\u001b[0m\u001b[0m\n\u001b[0;32m-> 2230\u001b[0;31m                                                class_weight=class_weight)\n\u001b[0m\u001b[1;32m   2231\u001b[0m \u001b[0;34m\u001b[0m\u001b[0m\n\u001b[1;32m   2232\u001b[0m                     \u001b[0;32mif\u001b[0m \u001b[0;32mnot\u001b[0m \u001b[0misinstance\u001b[0m\u001b[0;34m(\u001b[0m\u001b[0mouts\u001b[0m\u001b[0;34m,\u001b[0m \u001b[0mlist\u001b[0m\u001b[0;34m)\u001b[0m\u001b[0;34m:\u001b[0m\u001b[0;34m\u001b[0m\u001b[0m\n",
            "\u001b[0;32m/usr/local/lib/python3.6/dist-packages/keras/engine/training.py\u001b[0m in \u001b[0;36mtrain_on_batch\u001b[0;34m(self, x, y, sample_weight, class_weight)\u001b[0m\n\u001b[1;32m   1881\u001b[0m             \u001b[0mins\u001b[0m \u001b[0;34m=\u001b[0m \u001b[0mx\u001b[0m \u001b[0;34m+\u001b[0m \u001b[0my\u001b[0m \u001b[0;34m+\u001b[0m \u001b[0msample_weights\u001b[0m\u001b[0;34m\u001b[0m\u001b[0m\n\u001b[1;32m   1882\u001b[0m         \u001b[0mself\u001b[0m\u001b[0;34m.\u001b[0m\u001b[0m_make_train_function\u001b[0m\u001b[0;34m(\u001b[0m\u001b[0;34m)\u001b[0m\u001b[0;34m\u001b[0m\u001b[0m\n\u001b[0;32m-> 1883\u001b[0;31m         \u001b[0moutputs\u001b[0m \u001b[0;34m=\u001b[0m \u001b[0mself\u001b[0m\u001b[0;34m.\u001b[0m\u001b[0mtrain_function\u001b[0m\u001b[0;34m(\u001b[0m\u001b[0mins\u001b[0m\u001b[0;34m)\u001b[0m\u001b[0;34m\u001b[0m\u001b[0m\n\u001b[0m\u001b[1;32m   1884\u001b[0m         \u001b[0;32mif\u001b[0m \u001b[0mlen\u001b[0m\u001b[0;34m(\u001b[0m\u001b[0moutputs\u001b[0m\u001b[0;34m)\u001b[0m \u001b[0;34m==\u001b[0m \u001b[0;36m1\u001b[0m\u001b[0;34m:\u001b[0m\u001b[0;34m\u001b[0m\u001b[0m\n\u001b[1;32m   1885\u001b[0m             \u001b[0;32mreturn\u001b[0m \u001b[0moutputs\u001b[0m\u001b[0;34m[\u001b[0m\u001b[0;36m0\u001b[0m\u001b[0;34m]\u001b[0m\u001b[0;34m\u001b[0m\u001b[0m\n",
            "\u001b[0;32m/usr/local/lib/python3.6/dist-packages/keras/backend/tensorflow_backend.py\u001b[0m in \u001b[0;36m__call__\u001b[0;34m(self, inputs)\u001b[0m\n\u001b[1;32m   2480\u001b[0m         \u001b[0msession\u001b[0m \u001b[0;34m=\u001b[0m \u001b[0mget_session\u001b[0m\u001b[0;34m(\u001b[0m\u001b[0;34m)\u001b[0m\u001b[0;34m\u001b[0m\u001b[0m\n\u001b[1;32m   2481\u001b[0m         updated = session.run(fetches=fetches, feed_dict=feed_dict,\n\u001b[0;32m-> 2482\u001b[0;31m                               **self.session_kwargs)\n\u001b[0m\u001b[1;32m   2483\u001b[0m         \u001b[0;32mreturn\u001b[0m \u001b[0mupdated\u001b[0m\u001b[0;34m[\u001b[0m\u001b[0;34m:\u001b[0m\u001b[0mlen\u001b[0m\u001b[0;34m(\u001b[0m\u001b[0mself\u001b[0m\u001b[0;34m.\u001b[0m\u001b[0moutputs\u001b[0m\u001b[0;34m)\u001b[0m\u001b[0;34m]\u001b[0m\u001b[0;34m\u001b[0m\u001b[0m\n\u001b[1;32m   2484\u001b[0m \u001b[0;34m\u001b[0m\u001b[0m\n",
            "\u001b[0;32m/usr/local/lib/python3.6/dist-packages/tensorflow/python/client/session.py\u001b[0m in \u001b[0;36mrun\u001b[0;34m(self, fetches, feed_dict, options, run_metadata)\u001b[0m\n\u001b[1;32m    898\u001b[0m     \u001b[0;32mtry\u001b[0m\u001b[0;34m:\u001b[0m\u001b[0;34m\u001b[0m\u001b[0m\n\u001b[1;32m    899\u001b[0m       result = self._run(None, fetches, feed_dict, options_ptr,\n\u001b[0;32m--> 900\u001b[0;31m                          run_metadata_ptr)\n\u001b[0m\u001b[1;32m    901\u001b[0m       \u001b[0;32mif\u001b[0m \u001b[0mrun_metadata\u001b[0m\u001b[0;34m:\u001b[0m\u001b[0;34m\u001b[0m\u001b[0m\n\u001b[1;32m    902\u001b[0m         \u001b[0mproto_data\u001b[0m \u001b[0;34m=\u001b[0m \u001b[0mtf_session\u001b[0m\u001b[0;34m.\u001b[0m\u001b[0mTF_GetBuffer\u001b[0m\u001b[0;34m(\u001b[0m\u001b[0mrun_metadata_ptr\u001b[0m\u001b[0;34m)\u001b[0m\u001b[0;34m\u001b[0m\u001b[0m\n",
            "\u001b[0;32m/usr/local/lib/python3.6/dist-packages/tensorflow/python/client/session.py\u001b[0m in \u001b[0;36m_run\u001b[0;34m(self, handle, fetches, feed_dict, options, run_metadata)\u001b[0m\n\u001b[1;32m   1133\u001b[0m     \u001b[0;32mif\u001b[0m \u001b[0mfinal_fetches\u001b[0m \u001b[0;32mor\u001b[0m \u001b[0mfinal_targets\u001b[0m \u001b[0;32mor\u001b[0m \u001b[0;34m(\u001b[0m\u001b[0mhandle\u001b[0m \u001b[0;32mand\u001b[0m \u001b[0mfeed_dict_tensor\u001b[0m\u001b[0;34m)\u001b[0m\u001b[0;34m:\u001b[0m\u001b[0;34m\u001b[0m\u001b[0m\n\u001b[1;32m   1134\u001b[0m       results = self._do_run(handle, final_targets, final_fetches,\n\u001b[0;32m-> 1135\u001b[0;31m                              feed_dict_tensor, options, run_metadata)\n\u001b[0m\u001b[1;32m   1136\u001b[0m     \u001b[0;32melse\u001b[0m\u001b[0;34m:\u001b[0m\u001b[0;34m\u001b[0m\u001b[0m\n\u001b[1;32m   1137\u001b[0m       \u001b[0mresults\u001b[0m \u001b[0;34m=\u001b[0m \u001b[0;34m[\u001b[0m\u001b[0;34m]\u001b[0m\u001b[0;34m\u001b[0m\u001b[0m\n",
            "\u001b[0;32m/usr/local/lib/python3.6/dist-packages/tensorflow/python/client/session.py\u001b[0m in \u001b[0;36m_do_run\u001b[0;34m(self, handle, target_list, fetch_list, feed_dict, options, run_metadata)\u001b[0m\n\u001b[1;32m   1314\u001b[0m     \u001b[0;32mif\u001b[0m \u001b[0mhandle\u001b[0m \u001b[0;32mis\u001b[0m \u001b[0;32mNone\u001b[0m\u001b[0;34m:\u001b[0m\u001b[0;34m\u001b[0m\u001b[0m\n\u001b[1;32m   1315\u001b[0m       return self._do_call(_run_fn, feeds, fetches, targets, options,\n\u001b[0;32m-> 1316\u001b[0;31m                            run_metadata)\n\u001b[0m\u001b[1;32m   1317\u001b[0m     \u001b[0;32melse\u001b[0m\u001b[0;34m:\u001b[0m\u001b[0;34m\u001b[0m\u001b[0m\n\u001b[1;32m   1318\u001b[0m       \u001b[0;32mreturn\u001b[0m \u001b[0mself\u001b[0m\u001b[0;34m.\u001b[0m\u001b[0m_do_call\u001b[0m\u001b[0;34m(\u001b[0m\u001b[0m_prun_fn\u001b[0m\u001b[0;34m,\u001b[0m \u001b[0mhandle\u001b[0m\u001b[0;34m,\u001b[0m \u001b[0mfeeds\u001b[0m\u001b[0;34m,\u001b[0m \u001b[0mfetches\u001b[0m\u001b[0;34m)\u001b[0m\u001b[0;34m\u001b[0m\u001b[0m\n",
            "\u001b[0;32m/usr/local/lib/python3.6/dist-packages/tensorflow/python/client/session.py\u001b[0m in \u001b[0;36m_do_call\u001b[0;34m(self, fn, *args)\u001b[0m\n\u001b[1;32m   1320\u001b[0m   \u001b[0;32mdef\u001b[0m \u001b[0m_do_call\u001b[0m\u001b[0;34m(\u001b[0m\u001b[0mself\u001b[0m\u001b[0;34m,\u001b[0m \u001b[0mfn\u001b[0m\u001b[0;34m,\u001b[0m \u001b[0;34m*\u001b[0m\u001b[0margs\u001b[0m\u001b[0;34m)\u001b[0m\u001b[0;34m:\u001b[0m\u001b[0;34m\u001b[0m\u001b[0m\n\u001b[1;32m   1321\u001b[0m     \u001b[0;32mtry\u001b[0m\u001b[0;34m:\u001b[0m\u001b[0;34m\u001b[0m\u001b[0m\n\u001b[0;32m-> 1322\u001b[0;31m       \u001b[0;32mreturn\u001b[0m \u001b[0mfn\u001b[0m\u001b[0;34m(\u001b[0m\u001b[0;34m*\u001b[0m\u001b[0margs\u001b[0m\u001b[0;34m)\u001b[0m\u001b[0;34m\u001b[0m\u001b[0m\n\u001b[0m\u001b[1;32m   1323\u001b[0m     \u001b[0;32mexcept\u001b[0m \u001b[0merrors\u001b[0m\u001b[0;34m.\u001b[0m\u001b[0mOpError\u001b[0m \u001b[0;32mas\u001b[0m \u001b[0me\u001b[0m\u001b[0;34m:\u001b[0m\u001b[0;34m\u001b[0m\u001b[0m\n\u001b[1;32m   1324\u001b[0m       \u001b[0mmessage\u001b[0m \u001b[0;34m=\u001b[0m \u001b[0mcompat\u001b[0m\u001b[0;34m.\u001b[0m\u001b[0mas_text\u001b[0m\u001b[0;34m(\u001b[0m\u001b[0me\u001b[0m\u001b[0;34m.\u001b[0m\u001b[0mmessage\u001b[0m\u001b[0;34m)\u001b[0m\u001b[0;34m\u001b[0m\u001b[0m\n",
            "\u001b[0;32m/usr/local/lib/python3.6/dist-packages/tensorflow/python/client/session.py\u001b[0m in \u001b[0;36m_run_fn\u001b[0;34m(feed_dict, fetch_list, target_list, options, run_metadata)\u001b[0m\n\u001b[1;32m   1305\u001b[0m       \u001b[0mself\u001b[0m\u001b[0;34m.\u001b[0m\u001b[0m_extend_graph\u001b[0m\u001b[0;34m(\u001b[0m\u001b[0;34m)\u001b[0m\u001b[0;34m\u001b[0m\u001b[0m\n\u001b[1;32m   1306\u001b[0m       return self._call_tf_sessionrun(\n\u001b[0;32m-> 1307\u001b[0;31m           options, feed_dict, fetch_list, target_list, run_metadata)\n\u001b[0m\u001b[1;32m   1308\u001b[0m \u001b[0;34m\u001b[0m\u001b[0m\n\u001b[1;32m   1309\u001b[0m     \u001b[0;32mdef\u001b[0m \u001b[0m_prun_fn\u001b[0m\u001b[0;34m(\u001b[0m\u001b[0mhandle\u001b[0m\u001b[0;34m,\u001b[0m \u001b[0mfeed_dict\u001b[0m\u001b[0;34m,\u001b[0m \u001b[0mfetch_list\u001b[0m\u001b[0;34m)\u001b[0m\u001b[0;34m:\u001b[0m\u001b[0;34m\u001b[0m\u001b[0m\n",
            "\u001b[0;32m/usr/local/lib/python3.6/dist-packages/tensorflow/python/client/session.py\u001b[0m in \u001b[0;36m_call_tf_sessionrun\u001b[0;34m(self, options, feed_dict, fetch_list, target_list, run_metadata)\u001b[0m\n\u001b[1;32m   1407\u001b[0m       return tf_session.TF_SessionRun_wrapper(\n\u001b[1;32m   1408\u001b[0m           \u001b[0mself\u001b[0m\u001b[0;34m.\u001b[0m\u001b[0m_session\u001b[0m\u001b[0;34m,\u001b[0m \u001b[0moptions\u001b[0m\u001b[0;34m,\u001b[0m \u001b[0mfeed_dict\u001b[0m\u001b[0;34m,\u001b[0m \u001b[0mfetch_list\u001b[0m\u001b[0;34m,\u001b[0m \u001b[0mtarget_list\u001b[0m\u001b[0;34m,\u001b[0m\u001b[0;34m\u001b[0m\u001b[0m\n\u001b[0;32m-> 1409\u001b[0;31m           run_metadata)\n\u001b[0m\u001b[1;32m   1410\u001b[0m     \u001b[0;32melse\u001b[0m\u001b[0;34m:\u001b[0m\u001b[0;34m\u001b[0m\u001b[0m\n\u001b[1;32m   1411\u001b[0m       \u001b[0;32mwith\u001b[0m \u001b[0merrors\u001b[0m\u001b[0;34m.\u001b[0m\u001b[0mraise_exception_on_not_ok_status\u001b[0m\u001b[0;34m(\u001b[0m\u001b[0;34m)\u001b[0m \u001b[0;32mas\u001b[0m \u001b[0mstatus\u001b[0m\u001b[0;34m:\u001b[0m\u001b[0;34m\u001b[0m\u001b[0m\n",
            "\u001b[0;31mKeyboardInterrupt\u001b[0m: "
          ]
        }
      ]
    },
    {
      "metadata": {
        "id": "K2Ixla2WjR3O",
        "colab_type": "code",
        "colab": {}
      },
      "cell_type": "code",
      "source": [
        "# updatable plot\n",
        "# a minimal example (sort of)\n",
        "from IPython.display import clear_output\n",
        "\n",
        "class PlotLosses(keras.callbacks.Callback):\n",
        "    def on_train_begin(self, logs={}):\n",
        "        self.i = 0\n",
        "        self.x = []\n",
        "        self.losses = []\n",
        "        self.val_losses = []\n",
        "        \n",
        "        self.fig = plt.figure()\n",
        "        \n",
        "        self.logs = []\n",
        "\n",
        "    def on_batch_end(self, epoch, logs={}):\n",
        "        \n",
        "        self.logs.append(logs)\n",
        "        self.x.append(self.i)\n",
        "        self.losses.append(logs.get('iou'))\n",
        "        self.val_losses.append(logs.get('val_iou'))\n",
        "        self.i += 1\n",
        "        axes = plt.gca()\n",
        "        axes.set_ylim([0,1])\n",
        "        clear_output(wait=True)\n",
        "        plt.plot(self.x, self.losses, label=\"iou\")\n",
        "        plt.plot(self.x, self.val_losses, label=\"val_iou\")\n",
        "        plt.legend()\n",
        "        plt.show();\n",
        "        \n",
        "plot_losses = PlotLosses()"
      ],
      "execution_count": 0,
      "outputs": []
    },
    {
      "metadata": {
        "id": "Jhg1PGtEtrL4",
        "colab_type": "text"
      },
      "cell_type": "markdown",
      "source": [
        "### Simple training\n",
        "Training with just the given images."
      ]
    },
    {
      "metadata": {
        "id": "2KORHw4Bt4cJ",
        "colab_type": "code",
        "colab": {
          "base_uri": "https://localhost:8080/",
          "height": 323
        },
        "outputId": "a6f2ee9c-0c03-466c-b25d-ad6332e0e765"
      },
      "cell_type": "code",
      "source": [
        "#@title Simple training { form-width: \"20%\", display-mode: \"form\" }\n",
        "epochs = 100 #@param {type:\"integer\"}\n",
        "validation_size = 0.1 #@param {type:\"number\"}\n",
        "batch_size = 16 #@param {type:\"integer\"}\n",
        "\n",
        "early_stopping = EarlyStopping(monitor='val_iou', min_delta=0, patience=3, verbose=1, mode='auto')\n",
        "checkpoint = ModelCheckpoint('not_augmented_%sepochs_%ssteps_%batchsize.hdf5', monitor='val_iou', verbose=1, save_best_only=True, mode='max')\n",
        "callbacks = [checkpoint, early_stopping]\n",
        "\n",
        "_ = model.fit(np.array(X_train), np.array(Y_train), validation_split=validation_size, batch_size=batch_size, epochs=epochs, callbacks=callbacks, verbose=1)"
      ],
      "execution_count": 44,
      "outputs": [
        {
          "output_type": "stream",
          "text": [
            "Train on 603 samples, validate on 67 samples\n",
            "Epoch 1/100\n",
            "603/603 [==============================] - 96s 160ms/step - loss: 0.1224 - iou: 0.3387 - val_loss: 0.1027 - val_iou: 0.4383\n",
            "\n",
            "Epoch 00001: val_iou improved from -inf to 0.43834, saving model to not_augmented_%sepochs_%ssteps_%batchsize.hdf5\n",
            "Epoch 2/100\n",
            "603/603 [==============================] - 96s 160ms/step - loss: 0.1132 - iou: 0.3720 - val_loss: 0.0982 - val_iou: 0.4431\n",
            "\n",
            "Epoch 00002: val_iou improved from 0.43834 to 0.44311, saving model to not_augmented_%sepochs_%ssteps_%batchsize.hdf5\n",
            "Epoch 3/100\n",
            "603/603 [==============================] - 97s 160ms/step - loss: 0.1005 - iou: 0.4076 - val_loss: 0.0858 - val_iou: 0.4482\n",
            "\n",
            "Epoch 00003: val_iou improved from 0.44311 to 0.44825, saving model to not_augmented_%sepochs_%ssteps_%batchsize.hdf5\n",
            "Epoch 4/100\n",
            "603/603 [==============================] - 96s 160ms/step - loss: 0.0932 - iou: 0.4403 - val_loss: 0.0817 - val_iou: 0.4839\n",
            "\n",
            "Epoch 00004: val_iou improved from 0.44825 to 0.48387, saving model to not_augmented_%sepochs_%ssteps_%batchsize.hdf5\n",
            "Epoch 00004: early stopping\n"
          ],
          "name": "stdout"
        }
      ]
    },
    {
      "metadata": {
        "id": "Npol20AiJ7tr",
        "colab_type": "code",
        "colab": {}
      },
      "cell_type": "code",
      "source": [
        "model.load_weights(filepath='./augmented_%sepochs_%ssteps.hdf5')"
      ],
      "execution_count": 0,
      "outputs": []
    },
    {
      "metadata": {
        "id": "ZsjvvTZh4pPb",
        "colab_type": "code",
        "colab": {
          "base_uri": "https://localhost:8080/",
          "height": 575
        },
        "outputId": "4f0a5fd3-2892-4260-9ccc-2a7ce4da74e7"
      },
      "cell_type": "code",
      "source": [
        "history = model.history\n",
        "# summarize history for accuracy\n",
        "plt.plot(history.history['acc'])\n",
        "plt.plot(history.history['val_acc'])\n",
        "plt.title('model accuracy')\n",
        "plt.ylabel('accuracy')\n",
        "plt.xlabel('epoch')\n",
        "plt.legend(['train', 'test'], loc='upper left')\n",
        "plt.show()\n",
        "# summarize history for loss\n",
        "plt.plot(history.history['loss'])\n",
        "plt.plot(history.history['val_loss'])\n",
        "plt.title('model loss')\n",
        "plt.ylabel('loss')\n",
        "plt.xlabel('epoch')\n",
        "plt.legend(['train', 'test'], loc='upper left')\n",
        "plt.show()"
      ],
      "execution_count": 0,
      "outputs": [
        {
          "output_type": "error",
          "ename": "KeyError",
          "evalue": "ignored",
          "traceback": [
            "\u001b[0;31m---------------------------------------------------------------------------\u001b[0m",
            "\u001b[0;31mKeyError\u001b[0m                                  Traceback (most recent call last)",
            "\u001b[0;32m<ipython-input-120-5b5ddd483f61>\u001b[0m in \u001b[0;36m<module>\u001b[0;34m()\u001b[0m\n\u001b[1;32m      2\u001b[0m \u001b[0;31m# summarize history for accuracy\u001b[0m\u001b[0;34m\u001b[0m\u001b[0;34m\u001b[0m\u001b[0m\n\u001b[1;32m      3\u001b[0m \u001b[0mplt\u001b[0m\u001b[0;34m.\u001b[0m\u001b[0mplot\u001b[0m\u001b[0;34m(\u001b[0m\u001b[0mhistory\u001b[0m\u001b[0;34m.\u001b[0m\u001b[0mhistory\u001b[0m\u001b[0;34m[\u001b[0m\u001b[0;34m'acc'\u001b[0m\u001b[0;34m]\u001b[0m\u001b[0;34m)\u001b[0m\u001b[0;34m\u001b[0m\u001b[0m\n\u001b[0;32m----> 4\u001b[0;31m \u001b[0mplt\u001b[0m\u001b[0;34m.\u001b[0m\u001b[0mplot\u001b[0m\u001b[0;34m(\u001b[0m\u001b[0mhistory\u001b[0m\u001b[0;34m.\u001b[0m\u001b[0mhistory\u001b[0m\u001b[0;34m[\u001b[0m\u001b[0;34m'val_acc'\u001b[0m\u001b[0;34m]\u001b[0m\u001b[0;34m)\u001b[0m\u001b[0;34m\u001b[0m\u001b[0m\n\u001b[0m\u001b[1;32m      5\u001b[0m \u001b[0mplt\u001b[0m\u001b[0;34m.\u001b[0m\u001b[0mtitle\u001b[0m\u001b[0;34m(\u001b[0m\u001b[0;34m'model accuracy'\u001b[0m\u001b[0;34m)\u001b[0m\u001b[0;34m\u001b[0m\u001b[0m\n\u001b[1;32m      6\u001b[0m \u001b[0mplt\u001b[0m\u001b[0;34m.\u001b[0m\u001b[0mylabel\u001b[0m\u001b[0;34m(\u001b[0m\u001b[0;34m'accuracy'\u001b[0m\u001b[0;34m)\u001b[0m\u001b[0;34m\u001b[0m\u001b[0m\n",
            "\u001b[0;31mKeyError\u001b[0m: 'val_acc'"
          ]
        },
        {
          "output_type": "display_data",
          "data": {
            "image/png": "[encoded data removed]",
            "text/plain": [
              "<matplotlib.figure.Figure at 0x7ff7e63f0198>"
            ]
          },
          "metadata": {
            "tags": []
          }
        }
      ]
    },
    {
      "metadata": {
        "id": "EDF3rfVA0gJe",
        "colab_type": "code",
        "colab": {
          "base_uri": "https://localhost:8080/",
          "height": 145
        },
        "outputId": "51a03b34-875b-4c0f-fc1d-979840bf1d72"
      },
      "cell_type": "code",
      "source": [
        "from copy import copy\n",
        "predictions = model.predict(np.array(test))\n",
        "\n",
        "#upsample\n",
        "upsampled_predictions = list()\n",
        "for i, p in enumerate(predictions):\n",
        "  test_image = copy(test_r.Pixels.values[i].astype(np.float32))\n",
        "  test_shape_x, test_shape_y, _ = test_image.shape\n",
        "  x = copy(predictions[i]) #* 255.0\n",
        "  #   x[x==1] = 255\n",
        "  #   x[x<1] = 0\n",
        "  x = x.reshape(256,256)\n",
        "  x = misc.imresize(x, (test_shape_x, test_shape_y))\n",
        "  #   x = grey_dilation(grey_erosion(x, size=(8,8)), size=(6,6))\n",
        "  upsampled_predictions.append(x)"
      ],
      "execution_count": 45,
      "outputs": [
        {
          "output_type": "stream",
          "text": [
            "/usr/local/lib/python3.6/dist-packages/scipy/misc/pilutil.py:482: FutureWarning: Conversion of the second argument of issubdtype from `int` to `np.signedinteger` is deprecated. In future, it will be treated as `np.int64 == np.dtype(int).type`.\n",
            "  if issubdtype(ts, int):\n",
            "/usr/local/lib/python3.6/dist-packages/scipy/misc/pilutil.py:485: FutureWarning: Conversion of the second argument of issubdtype from `float` to `np.floating` is deprecated. In future, it will be treated as `np.float64 == np.dtype(float).type`.\n",
            "  elif issubdtype(type(size), float):\n"
          ],
          "name": "stderr"
        }
      ]
    },
    {
      "metadata": {
        "id": "nj1xA_V4uXQZ",
        "colab_type": "code",
        "colab": {
          "base_uri": "https://localhost:8080/",
          "height": 305
        },
        "outputId": "2d0a17c1-8719-4e5f-b180-7be686e63558"
      },
      "cell_type": "code",
      "source": [
        "from scipy.ndimage.morphology import grey_erosion, grey_dilation\n",
        "\n",
        "predicted_image = copy(upsampled_predictions[62])\n",
        "erosed_image = grey_dilation(grey_erosion(copy(predicted_image), size=(8,8)), size=(6,6))\n",
        "_ = plt.figure(figsize=(10,15))\n",
        "_ = plt.subplot(221)\n",
        "_ = plt.imshow(predicted_image, cmap='gray')\n",
        "_ = plt.subplot(222)\n",
        "_ = plt.imshow(test_r.Pixels.values[62], cmap='gray')\n",
        "# _ = plt.subplot(223)\n",
        "# _ = plt.imshow(erosed_image, cmap='gray')\n",
        "# _ = plt.subplot(223)\n",
        "# _ = plt.imshow(predictions[15].reshape(128,128), cmap='gray')\n",
        "\n",
        "plt.show()"
      ],
      "execution_count": 46,
      "outputs": [
        {
          "output_type": "display_data",
          "data": {
            "image/png": "[encoded data removed]",
            "text/plain": [
              "<matplotlib.figure.Figure at 0x7fbdda2d3390>"
            ]
          },
          "metadata": {
            "tags": []
          }
        }
      ]
    },
    {
      "metadata": {
        "id": "Olg2IV-IPg55",
        "colab_type": "code",
        "colab": {
          "base_uri": "https://localhost:8080/",
          "height": 521
        },
        "outputId": "39c00fc5-6559-4d74-de44-589a846742ea"
      },
      "cell_type": "code",
      "source": [
        "iou_metric(test_r.Pixels.values[62], predicted_image)"
      ],
      "execution_count": 54,
      "outputs": [
        {
          "output_type": "error",
          "ename": "ValueError",
          "evalue": "ignored",
          "traceback": [
            "\u001b[0;31m---------------------------------------------------------------------------\u001b[0m",
            "\u001b[0;31mValueError\u001b[0m                                Traceback (most recent call last)",
            "\u001b[0;32m<ipython-input-54-fd0135b30798>\u001b[0m in \u001b[0;36m<module>\u001b[0;34m()\u001b[0m\n\u001b[0;32m----> 1\u001b[0;31m \u001b[0miou_metric\u001b[0m\u001b[0;34m(\u001b[0m\u001b[0mtest_r\u001b[0m\u001b[0;34m.\u001b[0m\u001b[0mPixels\u001b[0m\u001b[0;34m.\u001b[0m\u001b[0mvalues\u001b[0m\u001b[0;34m[\u001b[0m\u001b[0;36m62\u001b[0m\u001b[0;34m]\u001b[0m\u001b[0;34m,\u001b[0m \u001b[0mpredicted_image\u001b[0m\u001b[0;34m)\u001b[0m\u001b[0;34m\u001b[0m\u001b[0m\n\u001b[0m",
            "\u001b[0;32m<ipython-input-38-7cc3e502b532>\u001b[0m in \u001b[0;36miou_metric\u001b[0;34m(y_true_in, y_pred_in, print_table)\u001b[0m\n\u001b[1;32m      6\u001b[0m     \u001b[0mpred_objects\u001b[0m \u001b[0;34m=\u001b[0m \u001b[0mlen\u001b[0m\u001b[0;34m(\u001b[0m\u001b[0mnp\u001b[0m\u001b[0;34m.\u001b[0m\u001b[0munique\u001b[0m\u001b[0;34m(\u001b[0m\u001b[0my_pred\u001b[0m\u001b[0;34m)\u001b[0m\u001b[0;34m)\u001b[0m\u001b[0;34m\u001b[0m\u001b[0m\n\u001b[1;32m      7\u001b[0m \u001b[0;34m\u001b[0m\u001b[0m\n\u001b[0;32m----> 8\u001b[0;31m     \u001b[0mintersection\u001b[0m \u001b[0;34m=\u001b[0m \u001b[0mnp\u001b[0m\u001b[0;34m.\u001b[0m\u001b[0mhistogram2d\u001b[0m\u001b[0;34m(\u001b[0m\u001b[0mlabels\u001b[0m\u001b[0;34m.\u001b[0m\u001b[0mflatten\u001b[0m\u001b[0;34m(\u001b[0m\u001b[0;34m)\u001b[0m\u001b[0;34m,\u001b[0m \u001b[0my_pred\u001b[0m\u001b[0;34m.\u001b[0m\u001b[0mflatten\u001b[0m\u001b[0;34m(\u001b[0m\u001b[0;34m)\u001b[0m\u001b[0;34m,\u001b[0m \u001b[0mbins\u001b[0m\u001b[0;34m=\u001b[0m\u001b[0;34m(\u001b[0m\u001b[0mtrue_objects\u001b[0m\u001b[0;34m,\u001b[0m \u001b[0mpred_objects\u001b[0m\u001b[0;34m)\u001b[0m\u001b[0;34m)\u001b[0m\u001b[0;34m[\u001b[0m\u001b[0;36m0\u001b[0m\u001b[0;34m]\u001b[0m\u001b[0;34m\u001b[0m\u001b[0m\n\u001b[0m\u001b[1;32m      9\u001b[0m \u001b[0;34m\u001b[0m\u001b[0m\n\u001b[1;32m     10\u001b[0m     \u001b[0;31m# Compute areas (needed for finding the union between all objects)\u001b[0m\u001b[0;34m\u001b[0m\u001b[0;34m\u001b[0m\u001b[0m\n",
            "\u001b[0;32m/usr/local/lib/python3.6/dist-packages/numpy/lib/twodim_base.py\u001b[0m in \u001b[0;36mhistogram2d\u001b[0;34m(x, y, bins, range, normed, weights)\u001b[0m\n\u001b[1;32m    653\u001b[0m         \u001b[0mxedges\u001b[0m \u001b[0;34m=\u001b[0m \u001b[0myedges\u001b[0m \u001b[0;34m=\u001b[0m \u001b[0masarray\u001b[0m\u001b[0;34m(\u001b[0m\u001b[0mbins\u001b[0m\u001b[0;34m,\u001b[0m \u001b[0mfloat\u001b[0m\u001b[0;34m)\u001b[0m\u001b[0;34m\u001b[0m\u001b[0m\n\u001b[1;32m    654\u001b[0m         \u001b[0mbins\u001b[0m \u001b[0;34m=\u001b[0m \u001b[0;34m[\u001b[0m\u001b[0mxedges\u001b[0m\u001b[0;34m,\u001b[0m \u001b[0myedges\u001b[0m\u001b[0;34m]\u001b[0m\u001b[0;34m\u001b[0m\u001b[0m\n\u001b[0;32m--> 655\u001b[0;31m     \u001b[0mhist\u001b[0m\u001b[0;34m,\u001b[0m \u001b[0medges\u001b[0m \u001b[0;34m=\u001b[0m \u001b[0mhistogramdd\u001b[0m\u001b[0;34m(\u001b[0m\u001b[0;34m[\u001b[0m\u001b[0mx\u001b[0m\u001b[0;34m,\u001b[0m \u001b[0my\u001b[0m\u001b[0;34m]\u001b[0m\u001b[0;34m,\u001b[0m \u001b[0mbins\u001b[0m\u001b[0;34m,\u001b[0m \u001b[0mrange\u001b[0m\u001b[0;34m,\u001b[0m \u001b[0mnormed\u001b[0m\u001b[0;34m,\u001b[0m \u001b[0mweights\u001b[0m\u001b[0;34m)\u001b[0m\u001b[0;34m\u001b[0m\u001b[0m\n\u001b[0m\u001b[1;32m    656\u001b[0m     \u001b[0;32mreturn\u001b[0m \u001b[0mhist\u001b[0m\u001b[0;34m,\u001b[0m \u001b[0medges\u001b[0m\u001b[0;34m[\u001b[0m\u001b[0;36m0\u001b[0m\u001b[0;34m]\u001b[0m\u001b[0;34m,\u001b[0m \u001b[0medges\u001b[0m\u001b[0;34m[\u001b[0m\u001b[0;36m1\u001b[0m\u001b[0;34m]\u001b[0m\u001b[0;34m\u001b[0m\u001b[0m\n\u001b[1;32m    657\u001b[0m \u001b[0;34m\u001b[0m\u001b[0m\n",
            "\u001b[0;32m/usr/local/lib/python3.6/dist-packages/numpy/lib/function_base.py\u001b[0m in \u001b[0;36mhistogramdd\u001b[0;34m(sample, bins, range, normed, weights)\u001b[0m\n\u001b[1;32m    915\u001b[0m         \u001b[0;32mif\u001b[0m \u001b[0mM\u001b[0m \u001b[0;34m!=\u001b[0m \u001b[0mD\u001b[0m\u001b[0;34m:\u001b[0m\u001b[0;34m\u001b[0m\u001b[0m\n\u001b[1;32m    916\u001b[0m             raise ValueError(\n\u001b[0;32m--> 917\u001b[0;31m                 \u001b[0;34m'The dimension of bins must be equal to the dimension of the '\u001b[0m\u001b[0;34m\u001b[0m\u001b[0m\n\u001b[0m\u001b[1;32m    918\u001b[0m                 ' sample x.')\n\u001b[1;32m    919\u001b[0m     \u001b[0;32mexcept\u001b[0m \u001b[0mTypeError\u001b[0m\u001b[0;34m:\u001b[0m\u001b[0;34m\u001b[0m\u001b[0m\n",
            "\u001b[0;31mValueError\u001b[0m: The dimension of bins must be equal to the dimension of the  sample x."
          ]
        }
      ]
    },
    {
      "metadata": {
        "id": "D0vu1cgBz8qm",
        "colab_type": "code",
        "colab": {
          "base_uri": "https://localhost:8080/",
          "height": 35
        },
        "outputId": "0d749173-463f-45ec-cc66-b1d0f29940c3"
      },
      "cell_type": "code",
      "source": [
        "print(label((predicted_image)>180).max())"
      ],
      "execution_count": 0,
      "outputs": [
        {
          "output_type": "stream",
          "text": [
            "17\n"
          ],
          "name": "stdout"
        }
      ]
    },
    {
      "metadata": {
        "id": "ICP0bnggO1G8",
        "colab_type": "code",
        "colab": {
          "base_uri": "https://localhost:8080/",
          "height": 351
        },
        "outputId": "f260dd00-fbeb-4209-c9b6-448d42f7c1b8"
      },
      "cell_type": "code",
      "source": [
        "ims = label(predicted_image>150)\n",
        "_ = plt.imshow(ims)"
      ],
      "execution_count": 0,
      "outputs": [
        {
          "output_type": "display_data",
          "data": {
            "image/png": "[encoded data removed]",
            "text/plain": [
              "<matplotlib.figure.Figure at 0x7f611eaf6eb8>"
            ]
          },
          "metadata": {
            "tags": []
          }
        }
      ]
    },
    {
      "metadata": {
        "id": "UpZglTnuOeS2",
        "colab_type": "code",
        "colab": {
          "base_uri": "https://localhost:8080/",
          "height": 251
        },
        "outputId": "a4113121-c4ac-4715-c3d6-2447affb11c8"
      },
      "cell_type": "code",
      "source": [
        "predicted_image/255"
      ],
      "execution_count": 0,
      "outputs": [
        {
          "output_type": "execute_result",
          "data": {
            "text/plain": [
              "array([[0.24313725, 0.20784314, 0.31372549, ..., 0.77254902, 0.69803922,\n",
              "        0.63137255],\n",
              "       [0.14117647, 0.10196078, 0.15686275, ..., 0.94117647, 0.89803922,\n",
              "        0.72941176],\n",
              "       [0.10196078, 0.05490196, 0.08627451, ..., 0.95686275, 0.92941176,\n",
              "        0.76470588],\n",
              "       ...,\n",
              "       [0.36078431, 0.38823529, 0.5254902 , ..., 0.1254902 , 0.21960784,\n",
              "        0.31372549],\n",
              "       [0.37647059, 0.34901961, 0.4627451 , ..., 0.27843137, 0.41568627,\n",
              "        0.43137255],\n",
              "       [0.42352941, 0.36470588, 0.41960784, ..., 0.34117647, 0.40392157,\n",
              "        0.43529412]])"
            ]
          },
          "metadata": {
            "tags": []
          },
          "execution_count": 92
        }
      ]
    },
    {
      "metadata": {
        "id": "1BZvJaWjOjNi",
        "colab_type": "code",
        "colab": {
          "base_uri": "https://localhost:8080/",
          "height": 34
        },
        "outputId": "8cb0eef2-35a8-4a1a-ea6b-df2016c36515"
      },
      "cell_type": "code",
      "source": [
        "\n",
        "regions = [label(up > 128) for up in upsampled_predictions]\n",
        "regions[25].max()"
      ],
      "execution_count": 48,
      "outputs": [
        {
          "output_type": "execute_result",
          "data": {
            "text/plain": [
              "59"
            ]
          },
          "metadata": {
            "tags": []
          },
          "execution_count": 48
        }
      ]
    },
    {
      "metadata": {
        "id": "f8CZsCGICKPv",
        "colab_type": "code",
        "colab": {}
      },
      "cell_type": "code",
      "source": [
        "# run-length\n",
        "# Run-length encoding stolen from https://www.kaggle.com/rakhlin/fast-run-length-encoding-python\n",
        "def rle_encoding(x):\n",
        "    '''\n",
        "    x: numpy array of shape (height, width), 1 - mask, 0 - background\n",
        "    Returns run length as list\n",
        "    '''\n",
        "    dots = np.where(x.T.flatten()==1)[0] # .T sets Fortran order down-then-right\n",
        "    run_lengths = []\n",
        "    prev = -2\n",
        "    for b in dots:\n",
        "        if (b>prev+1): run_lengths.extend((b+1, 0))\n",
        "        run_lengths[-1] += 1\n",
        "        prev = b\n",
        "    return run_lengths\n",
        "\n",
        "rle_mask = list()\n",
        "for id_, r in zip(test_r.ImageId.values, regions):\n",
        "  for i in range(1, r.max() + 1):\n",
        "    rle_mask.append([id_,rle_encoding(r == i)])\n",
        "\n",
        "submission = pd.DataFrame(np.array(rle_mask, dtype=object), columns=[\"ImageId\", \"EncodedPixels\"])\n",
        "submission['EncodedPixels'] = pd.Series(submission.EncodedPixels.values).apply(lambda x: ' '.join(str(y) for y in x))\n",
        "submission.to_csv(\"iou_grid4_submission.csv\", index=False)\n",
        "  \n",
        "# rles = [rle_encoding(up) for up in upsampled_predictions]\n",
        "\n",
        "\n",
        "\n",
        "    \n",
        "# # Create submission DataFrame\n",
        "# sub = pd.DataFrame()\n",
        "# sub['ImageId'] = test_r.ImageId.values #Revisar el orden cojones!\n",
        "# sub['EncodedPixels'] = pd.Series(rles).apply(lambda x: ' '.join(str(y) for y in x))\n",
        "\n",
        "# fname ='iou3_submission.csv'\n",
        "\n",
        "# sub.to_csv(fname, index=False)\n",
        "\n",
        "# sub.head()"
      ],
      "execution_count": 0,
      "outputs": []
    },
    {
      "metadata": {
        "id": "yG2mFnC_rsLj",
        "colab_type": "code",
        "colab": {
          "base_uri": "https://localhost:8080/",
          "height": 204
        },
        "outputId": "714bf4c6-6e38-4e8d-f422-fb628f52e655"
      },
      "cell_type": "code",
      "source": [
        "submission.head()"
      ],
      "execution_count": 50,
      "outputs": [
        {
          "output_type": "execute_result",
          "data": {
            "text/html": [
              "<div>\n",
              "<style scoped>\n",
              "    .dataframe tbody tr th:only-of-type {\n",
              "        vertical-align: middle;\n",
              "    }\n",
              "\n",
              "    .dataframe tbody tr th {\n",
              "        vertical-align: top;\n",
              "    }\n",
              "\n",
              "    .dataframe thead th {\n",
              "        text-align: right;\n",
              "    }\n",
              "</style>\n",
              "<table border=\"1\" class=\"dataframe\">\n",
              "  <thead>\n",
              "    <tr style=\"text-align: right;\">\n",
              "      <th></th>\n",
              "      <th>ImageId</th>\n",
              "      <th>EncodedPixels</th>\n",
              "    </tr>\n",
              "  </thead>\n",
              "  <tbody>\n",
              "    <tr>\n",
              "      <th>0</th>\n",
              "      <td>9ab2d381f90b485a68b82bc07f94397a0373e3215ad209...</td>\n",
              "      <td>49674 4 49926 13 50180 18 50434 23 50690 25 50...</td>\n",
              "    </tr>\n",
              "    <tr>\n",
              "      <th>1</th>\n",
              "      <td>9ab2d381f90b485a68b82bc07f94397a0373e3215ad209...</td>\n",
              "      <td>28200 5 28454 9 28708 14 28963 17 29218 20 294...</td>\n",
              "    </tr>\n",
              "    <tr>\n",
              "      <th>2</th>\n",
              "      <td>9ab2d381f90b485a68b82bc07f94397a0373e3215ad209...</td>\n",
              "      <td>51816 10 52068 16 52322 19 52576 23 52831 25 5...</td>\n",
              "    </tr>\n",
              "    <tr>\n",
              "      <th>3</th>\n",
              "      <td>ab298b962a63e4be9582513aaa84a5e270adba5fd2b16a...</td>\n",
              "      <td>41219 7 41474 9 41729 11 41985 12 42241 12 424...</td>\n",
              "    </tr>\n",
              "    <tr>\n",
              "      <th>4</th>\n",
              "      <td>ab298b962a63e4be9582513aaa84a5e270adba5fd2b16a...</td>\n",
              "      <td>57437 6 57692 8 57948 9 58204 10 58460 10 5871...</td>\n",
              "    </tr>\n",
              "  </tbody>\n",
              "</table>\n",
              "</div>"
            ],
            "text/plain": [
              "                                             ImageId  \\\n",
              "0  9ab2d381f90b485a68b82bc07f94397a0373e3215ad209...   \n",
              "1  9ab2d381f90b485a68b82bc07f94397a0373e3215ad209...   \n",
              "2  9ab2d381f90b485a68b82bc07f94397a0373e3215ad209...   \n",
              "3  ab298b962a63e4be9582513aaa84a5e270adba5fd2b16a...   \n",
              "4  ab298b962a63e4be9582513aaa84a5e270adba5fd2b16a...   \n",
              "\n",
              "                                       EncodedPixels  \n",
              "0  49674 4 49926 13 50180 18 50434 23 50690 25 50...  \n",
              "1  28200 5 28454 9 28708 14 28963 17 29218 20 294...  \n",
              "2  51816 10 52068 16 52322 19 52576 23 52831 25 5...  \n",
              "3  41219 7 41474 9 41729 11 41985 12 42241 12 424...  \n",
              "4  57437 6 57692 8 57948 9 58204 10 58460 10 5871...  "
            ]
          },
          "metadata": {
            "tags": []
          },
          "execution_count": 50
        }
      ]
    },
    {
      "metadata": {
        "id": "s5JAQSL3T_sQ",
        "colab_type": "code",
        "colab": {
          "base_uri": "https://localhost:8080/",
          "height": 34
        },
        "outputId": "047aa3c7-b624-4d55-b981-ff4e9037469f"
      },
      "cell_type": "code",
      "source": [
        "len(submission.ImageId.values)"
      ],
      "execution_count": 51,
      "outputs": [
        {
          "output_type": "execute_result",
          "data": {
            "text/plain": [
              "1713"
            ]
          },
          "metadata": {
            "tags": []
          },
          "execution_count": 51
        }
      ]
    },
    {
      "metadata": {
        "id": "GFhIYoY5_RX-",
        "colab_type": "code",
        "colab": {}
      },
      "cell_type": "code",
      "source": [
        "from google.colab import files\n",
        "\n",
        "files.download(\"iou_grid4_submission.csv\")"
      ],
      "execution_count": 0,
      "outputs": []
    },
    {
      "metadata": {
        "id": "1j1LhPX5_HZ6",
        "colab_type": "code",
        "colab": {
          "base_uri": "https://localhost:8080/",
          "height": 35
        },
        "outputId": "ccc6548e-cac0-4fe8-e721-2cc81c388f37"
      },
      "cell_type": "code",
      "source": [
        "count = 0\n",
        "for i,p in enumerate(predictions):\n",
        "  x,y,z = np.where(p==1)\n",
        "  if len(x) == 0 or len(y) == 0:\n",
        "    count +=1 \n",
        "print(\"%s empty out of %s\" %(count, i))"
      ],
      "execution_count": 0,
      "outputs": [
        {
          "output_type": "stream",
          "text": [
            "65 empty out of 64\n"
          ],
          "name": "stdout"
        }
      ]
    },
    {
      "metadata": {
        "id": "2hRPhUs8makv",
        "colab_type": "code",
        "colab": {}
      },
      "cell_type": "code",
      "source": [
        "i,j = np.where( x==1)\n",
        "for a,b in zip(i,j):\n",
        "  print(a,b)"
      ],
      "execution_count": 0,
      "outputs": []
    },
    {
      "metadata": {
        "id": "kgeG3cxpndGy",
        "colab_type": "code",
        "colab": {}
      },
      "cell_type": "code",
      "source": [
        "from scipy import ndimage\n",
        "from copy import copy"
      ],
      "execution_count": 0,
      "outputs": []
    },
    {
      "metadata": {
        "id": "0ZCsuMZSTUVX",
        "colab_type": "code",
        "colab": {
          "base_uri": "https://localhost:8080/",
          "height": 399
        },
        "outputId": "7222eddd-7426-4e6e-c15b-8386a36781c2"
      },
      "cell_type": "code",
      "source": [
        "test_image = copy(test.Pixels.values[6])\n",
        "test_shape_x, test_shape_y, _ = test_image.shape\n",
        "x = copy(predictions[6]) #* 255.0\n",
        "print(x[x==1])\n",
        "x[x<1] = 0\n",
        "x[x==1] = 255\n",
        "x = x.reshape(256,256)\n",
        "x = misc.imresize(x, (test_shape_x, test_shape_y))\n",
        "# x = ndimage.binary_erosion(x, iterations=1)\n",
        "\n",
        "_ = plt.figure(figsize=(10,15))\n",
        "_ = plt.subplot(331)\n",
        "_ = plt.imshow(test_image, cmap='gray')\n",
        "_ = plt.subplot(332)\n",
        "_ = plt.imshow(x, cmap='gray')\n",
        "_ = plt.subplot(333)\n",
        "_ = plt.hist(x.ravel(), [0,2])\n",
        "_ = plt.show()"
      ],
      "execution_count": 0,
      "outputs": [
        {
          "output_type": "stream",
          "text": [
            "[]\n"
          ],
          "name": "stdout"
        },
        {
          "output_type": "stream",
          "text": [
            "/usr/local/lib/python3.6/dist-packages/scipy/misc/pilutil.py:482: FutureWarning: Conversion of the second argument of issubdtype from `int` to `np.signedinteger` is deprecated. In future, it will be treated as `np.int64 == np.dtype(int).type`.\n",
            "  if issubdtype(ts, int):\n",
            "/usr/local/lib/python3.6/dist-packages/scipy/misc/pilutil.py:485: FutureWarning: Conversion of the second argument of issubdtype from `float` to `np.floating` is deprecated. In future, it will be treated as `np.float64 == np.dtype(float).type`.\n",
            "  elif issubdtype(type(size), float):\n"
          ],
          "name": "stderr"
        },
        {
          "output_type": "display_data",
          "data": {
            "image/png": "[encoded data removed]",
            "text/plain": [
              "<matplotlib.figure.Figure at 0x7f8fc5a6fef0>"
            ]
          },
          "metadata": {
            "tags": []
          }
        }
      ]
    },
    {
      "metadata": {
        "id": "P1HTgdd-7mKT",
        "colab_type": "code",
        "colab": {
          "base_uri": "https://localhost:8080/",
          "height": 35
        },
        "outputId": "cf263ac4-2093-4090-fd85-5f7bc9689795"
      },
      "cell_type": "code",
      "source": [
        ""
      ],
      "execution_count": 0,
      "outputs": [
        {
          "output_type": "stream",
          "text": [
            "[1. 1. 1. ... 1. 1. 1.]\n"
          ],
          "name": "stdout"
        }
      ]
    },
    {
      "metadata": {
        "id": "hId13KzlThbo",
        "colab_type": "code",
        "colab": {}
      },
      "cell_type": "code",
      "source": [
        ""
      ],
      "execution_count": 0,
      "outputs": []
    }
  ]
}